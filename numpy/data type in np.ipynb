{
 "cells": [
  {
   "cell_type": "markdown",
   "id": "6ecf8bdb-92a8-46a7-921c-d8c35d1cd629",
   "metadata": {},
   "source": [
    "# data type"
   ]
  },
  {
   "cell_type": "code",
   "execution_count": 3,
   "id": "27cdbe0f-82c4-40c6-97e9-e813edfea738",
   "metadata": {},
   "outputs": [],
   "source": [
    "import numpy as np"
   ]
  },
  {
   "cell_type": "code",
   "execution_count": 7,
   "id": "4d9d3112-198c-4ee6-93ee-08c1cab59a03",
   "metadata": {},
   "outputs": [
    {
     "name": "stdout",
     "output_type": "stream",
     "text": [
      "data type :  int32\n"
     ]
    }
   ],
   "source": [
    "var = np.array([1,2,3,4,11,12,13,14,15])\n",
    "print(\"data type : \", var.dtype)"
   ]
  },
  {
   "cell_type": "code",
   "execution_count": 9,
   "id": "e22ff446-35c5-46c0-830e-4a17440d5bd3",
   "metadata": {},
   "outputs": [
    {
     "name": "stdout",
     "output_type": "stream",
     "text": [
      "data type :  float64\n"
     ]
    }
   ],
   "source": [
    "var = np.array([1.1,1.2,1.3])\n",
    "print(\"data type : \", var.dtype)"
   ]
  },
  {
   "cell_type": "code",
   "execution_count": 11,
   "id": "b7a3f26c-c96c-461c-98cd-8abe373726aa",
   "metadata": {},
   "outputs": [
    {
     "name": "stdout",
     "output_type": "stream",
     "text": [
      "data type :  <U1\n"
     ]
    }
   ],
   "source": [
    "var = np.array([\"a\",\"d\",\"t\"])\n",
    "print(\"data type : \", var.dtype)"
   ]
  },
  {
   "cell_type": "code",
   "execution_count": 13,
   "id": "06d73500-2842-4c96-8796-6c86a00e947b",
   "metadata": {},
   "outputs": [
    {
     "name": "stdout",
     "output_type": "stream",
     "text": [
      "data type :  <U11\n"
     ]
    }
   ],
   "source": [
    "var = np.array([1,2,3,\"a\",\"d\",\"t\",4,11,12,13,14,15])\n",
    "print(\"data type : \", var.dtype)"
   ]
  },
  {
   "cell_type": "code",
   "execution_count": 23,
   "id": "fe60c141-4be5-474e-8029-87f3d330e03d",
   "metadata": {},
   "outputs": [
    {
     "name": "stdout",
     "output_type": "stream",
     "text": [
      "data type :  int8 int32\n",
      "[1 2 3 4]\n"
     ]
    }
   ],
   "source": [
    "x = np.array([1,2,3,4], dtype = np.int8)\n",
    "y = np.array([1,2,3,4])\n",
    "print(\"data type : \", x.dtype, y.dtype)\n",
    "print (x)"
   ]
  },
  {
   "cell_type": "code",
   "execution_count": 25,
   "id": "ead007f7-cb8c-4548-919f-7343f21a90e0",
   "metadata": {},
   "outputs": [
    {
     "name": "stdout",
     "output_type": "stream",
     "text": [
      "data type :  float32 int32\n",
      "[1. 2. 3. 4.]\n"
     ]
    }
   ],
   "source": [
    "x = np.array([1,2,3,4], dtype = \"f\")\n",
    "y = np.array([1,2,3,4])\n",
    "print(\"data type : \", x.dtype, y.dtype)\n",
    "print (x)"
   ]
  },
  {
   "cell_type": "code",
   "execution_count": 29,
   "id": "2ecace8f-f19a-43bf-92d2-ebbe1b1548f8",
   "metadata": {},
   "outputs": [
    {
     "name": "stdout",
     "output_type": "stream",
     "text": [
      "data type :  int32\n",
      "data type :  float32\n",
      "data type :  int32\n",
      "[1 2 3 4]\n",
      "[1. 2. 3. 4.]\n",
      "[1 2 3 4]\n"
     ]
    }
   ],
   "source": [
    "x2 = np.array([1,2,3,4])\n",
    "\n",
    "new = np.float32(x2)\n",
    "\n",
    "new1 = np.int_(new)\n",
    "# y2 = np.array([1,2,3,4])\n",
    "print(\"data type : \", x2.dtype)\n",
    "print(\"data type : \", new.dtype)\n",
    "print(\"data type : \", new1.dtype)\n",
    "print(x2)\n",
    "print(new)\n",
    "print(new1)"
   ]
  },
  {
   "cell_type": "code",
   "execution_count": 33,
   "id": "24117baa-7846-4d4d-abea-66a73fa5b7d1",
   "metadata": {},
   "outputs": [
    {
     "name": "stdout",
     "output_type": "stream",
     "text": [
      "[1 2 3 4]\n",
      "[1. 2. 3. 4.]\n"
     ]
    }
   ],
   "source": [
    "x3 = np.array([1,2,3,4])\n",
    "new2 = x3.astype(float)\n",
    "\n",
    "print(x3)\n",
    "print(new2)"
   ]
  },
  {
   "cell_type": "code",
   "execution_count": null,
   "id": "84c76ea7-51cf-4996-8bee-2d9444918560",
   "metadata": {},
   "outputs": [],
   "source": []
  }
 ],
 "metadata": {
  "kernelspec": {
   "display_name": "Python 3 (ipykernel)",
   "language": "python",
   "name": "python3"
  },
  "language_info": {
   "codemirror_mode": {
    "name": "ipython",
    "version": 3
   },
   "file_extension": ".py",
   "mimetype": "text/x-python",
   "name": "python",
   "nbconvert_exporter": "python",
   "pygments_lexer": "ipython3",
   "version": "3.11.7"
  }
 },
 "nbformat": 4,
 "nbformat_minor": 5
}
