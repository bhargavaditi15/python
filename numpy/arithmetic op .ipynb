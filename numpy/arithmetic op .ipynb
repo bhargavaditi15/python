{
 "cells": [
  {
   "cell_type": "markdown",
   "id": "55f909d1-fdb0-4535-bc8e-9bffa2837c1c",
   "metadata": {},
   "source": [
    "# arithmetic operation"
   ]
  },
  {
   "cell_type": "code",
   "execution_count": 3,
   "id": "4a5ab0bb-53ab-49d3-a9de-da9975d3d8e8",
   "metadata": {},
   "outputs": [],
   "source": [
    "import numpy as np"
   ]
  },
  {
   "cell_type": "code",
   "execution_count": 11,
   "id": "6e25ad0b-89d3-4b0c-bd42-f128f605c5ae",
   "metadata": {},
   "outputs": [
    {
     "name": "stdout",
     "output_type": "stream",
     "text": [
      "[4 5 6 7 8]\n",
      "[-2 -1  0  1  2]\n",
      "[ 3  6  9 12 15]\n",
      "[1 2 0 1 2]\n",
      "[0.33333333 0.66666667 1.         1.33333333 1.66666667]\n"
     ]
    }
   ],
   "source": [
    "var = np.array([1,2,3,4,5])\n",
    "\n",
    "varadd = var+3\n",
    "varsub = var-3\n",
    "varmul = var*3\n",
    "varmol = var % 3\n",
    "vardiv = var/3\n",
    "print(varadd)\n",
    "print(varsub)\n",
    "print(varmul)\n",
    "print(varmol)\n",
    "print(vardiv)"
   ]
  },
  {
   "cell_type": "code",
   "execution_count": 22,
   "id": "3161ec30-de79-4f84-bf5b-efd15017d49d",
   "metadata": {},
   "outputs": [
    {
     "name": "stdout",
     "output_type": "stream",
     "text": [
      "[1 0 0 0 0]\n"
     ]
    }
   ],
   "source": [
    "var= np.array([1,2,3,4,5])\n",
    "varadd = np.reciprocal(var)\n",
    "print(varadd)"
   ]
  },
  {
   "cell_type": "code",
   "execution_count": 9,
   "id": "9cc25487-1dc1-4fd0-a305-f6375f195fe5",
   "metadata": {},
   "outputs": [
    {
     "name": "stdout",
     "output_type": "stream",
     "text": [
      "[ 2  4  6  8 10]\n"
     ]
    }
   ],
   "source": [
    "var1 = np.array([1,2,3,4,5])\n",
    "var2 = np.array([1,2,3,4,5])\n",
    "\n",
    "varadd = var1 + var2\n",
    "print(varadd)"
   ]
  },
  {
   "cell_type": "code",
   "execution_count": 15,
   "id": "c1e89fc8-d2c8-44cc-8c88-a8f892ab0351",
   "metadata": {},
   "outputs": [
    {
     "name": "stdout",
     "output_type": "stream",
     "text": [
      "[ 2  4  6  8 10]\n"
     ]
    }
   ],
   "source": [
    "var1 = np.array([1,2,3,4,5])\n",
    "var2 = np.array([1,2,3,4,5])\n",
    "\n",
    "varadd = np.add(var1, var2)\n",
    "print(varadd)"
   ]
  },
  {
   "cell_type": "code",
   "execution_count": 17,
   "id": "f235f6d9-fe19-4b87-b797-25c7f4f0b13a",
   "metadata": {},
   "outputs": [
    {
     "name": "stdout",
     "output_type": "stream",
     "text": [
      "[ 6  7  8  9 10]\n"
     ]
    }
   ],
   "source": [
    "var1 = np.array([1,2,3,4,5])\n",
    "var2 = np.array([1,2,3,4,5])\n",
    "\n",
    "varadd = np.add(var1, 5)\n",
    "print(varadd)"
   ]
  },
  {
   "cell_type": "markdown",
   "id": "c539561f-e80f-4976-ba4a-03433ceb714e",
   "metadata": {},
   "source": [
    "# 2d array"
   ]
  },
  {
   "cell_type": "code",
   "execution_count": 20,
   "id": "a1a7c833-2462-4601-a751-0ca15aaff2bc",
   "metadata": {},
   "outputs": [
    {
     "name": "stdout",
     "output_type": "stream",
     "text": [
      "[[1 2 3 4 5]\n",
      " [1 2 3 4 5]]\n",
      "[[1 2 3 4 5]\n",
      " [1 2 3 4 5]]\n",
      "[[ 2  4  6  8 10]\n",
      " [ 2  4  6  8 10]]\n"
     ]
    }
   ],
   "source": [
    "var3 = np.array([[1,2,3,4,5], [1,2,3,4,5]])\n",
    "var4 = np.array([[1,2,3,4,5], [1,2,3,4,5]])\n",
    "print(var3)\n",
    "print(var4)\n",
    "varadd = var3 + var4\n",
    "print(varadd)"
   ]
  },
  {
   "cell_type": "code",
   "execution_count": null,
   "id": "73e140c6-b339-4b90-8b2c-f8e05c098b88",
   "metadata": {},
   "outputs": [],
   "source": []
  }
 ],
 "metadata": {
  "kernelspec": {
   "display_name": "Python 3 (ipykernel)",
   "language": "python",
   "name": "python3"
  },
  "language_info": {
   "codemirror_mode": {
    "name": "ipython",
    "version": 3
   },
   "file_extension": ".py",
   "mimetype": "text/x-python",
   "name": "python",
   "nbconvert_exporter": "python",
   "pygments_lexer": "ipython3",
   "version": "3.11.7"
  }
 },
 "nbformat": 4,
 "nbformat_minor": 5
}
