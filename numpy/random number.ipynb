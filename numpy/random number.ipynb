{
 "cells": [
  {
   "cell_type": "code",
   "execution_count": 2,
   "id": "c44eb101-f32f-43e9-82be-dacd1dc276f8",
   "metadata": {},
   "outputs": [],
   "source": [
    "import numpy as np"
   ]
  },
  {
   "cell_type": "code",
   "execution_count": 6,
   "id": "9f37b81f-c58d-4ec0-8f39-4dedc29283f9",
   "metadata": {},
   "outputs": [
    {
     "name": "stdout",
     "output_type": "stream",
     "text": [
      "[0.95003275 0.2967071  0.84412223 0.91481843 0.8390808 ]\n"
     ]
    }
   ],
   "source": [
    "#rand()\n",
    "var = np.random.rand(5)\n",
    "\n",
    "print(var)"
   ]
  },
  {
   "cell_type": "code",
   "execution_count": 12,
   "id": "5aabf49f-43ce-4f0b-b98e-a92b55f8f322",
   "metadata": {},
   "outputs": [
    {
     "name": "stdout",
     "output_type": "stream",
     "text": [
      "[[0.96966996 0.53294759 0.87191549 0.89693982 0.02059774]\n",
      " [0.68232453 0.16017799 0.50875213 0.82300444 0.01552715]]\n"
     ]
    }
   ],
   "source": [
    "var1 = np.random.rand(2,5)\n",
    "print(var1)"
   ]
  },
  {
   "cell_type": "code",
   "execution_count": 16,
   "id": "9518f87c-7cce-4105-b5ca-c3c6e2c35810",
   "metadata": {},
   "outputs": [
    {
     "name": "stdout",
     "output_type": "stream",
     "text": [
      "[-1.11044422 -0.38033686 -0.01300471  2.8898043  -0.15960858]\n"
     ]
    }
   ],
   "source": [
    "#randn()\n",
    "var2 = np.random.randn(5)\n",
    "print(var2)"
   ]
  },
  {
   "cell_type": "code",
   "execution_count": 18,
   "id": "d146479e-b454-4da5-873a-d8c6cf4fcb56",
   "metadata": {},
   "outputs": [
    {
     "name": "stdout",
     "output_type": "stream",
     "text": [
      "[0.8616551  0.10987288 0.97712431 0.09218687 0.41242238]\n"
     ]
    }
   ],
   "source": [
    "#ranf()\n",
    "var3 = np.random.ranf(5)\n",
    "print(var3)"
   ]
  },
  {
   "cell_type": "code",
   "execution_count": 20,
   "id": "bb880240-2f7f-4000-8d20-97cb425a5801",
   "metadata": {},
   "outputs": [
    {
     "name": "stdout",
     "output_type": "stream",
     "text": [
      "[16 18  7 12 18]\n"
     ]
    }
   ],
   "source": [
    "#randit()\n",
    "#var4 = np.random.randint(min,max,total_values)\n",
    "var4 = np.random.randint(5,20,5)\n",
    "print(var4)"
   ]
  },
  {
   "cell_type": "code",
   "execution_count": null,
   "id": "0264c48d-1bd0-4edf-a8b8-424926ba63d8",
   "metadata": {},
   "outputs": [],
   "source": []
  }
 ],
 "metadata": {
  "kernelspec": {
   "display_name": "Python 3 (ipykernel)",
   "language": "python",
   "name": "python3"
  },
  "language_info": {
   "codemirror_mode": {
    "name": "ipython",
    "version": 3
   },
   "file_extension": ".py",
   "mimetype": "text/x-python",
   "name": "python",
   "nbconvert_exporter": "python",
   "pygments_lexer": "ipython3",
   "version": "3.11.7"
  }
 },
 "nbformat": 4,
 "nbformat_minor": 5
}
