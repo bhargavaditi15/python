{
 "cells": [
  {
   "cell_type": "markdown",
   "id": "bf04f098-3ee2-4150-bfb9-7148786a4143",
   "metadata": {},
   "source": [
    "# # arithmetic function"
   ]
  },
  {
   "cell_type": "code",
   "execution_count": 3,
   "id": "175cfc71-543a-4e18-bb69-eaf72593ed85",
   "metadata": {},
   "outputs": [],
   "source": [
    "import numpy as np"
   ]
  },
  {
   "cell_type": "code",
   "execution_count": 15,
   "id": "fef72cb7-c39e-41b0-99ef-e872b0e79397",
   "metadata": {},
   "outputs": [
    {
     "name": "stdout",
     "output_type": "stream",
     "text": [
      "minimum:  1\n",
      "maximum:  9\n",
      "minimum:  1 0\n",
      "maximum:  9 10\n",
      "sqar root:  [1.         1.41421356 1.73205081 2.         2.23606798 2.64575131\n",
      " 1.73205081 1.         2.23606798 2.82842712 3.        ]\n"
     ]
    }
   ],
   "source": [
    "v1 = np.array([1,2,3,4,5,7,3,1,5,8,9])\n",
    "print(\"minimum: \", np.min(v1))\n",
    "print(\"maximum: \", np.max(v1))\n",
    "print(\"minimum: \", np.min(v1), np.argmin(v1))\n",
    "print(\"maximum: \", np.max(v1), np.argmax(v1))\n",
    "print(\"sqar root: \", np.sqrt(v1))"
   ]
  },
  {
   "cell_type": "code",
   "execution_count": 13,
   "id": "cb7670d1-efa3-4974-9982-10aa388a72dd",
   "metadata": {},
   "outputs": [
    {
     "name": "stdout",
     "output_type": "stream",
     "text": [
      "[2 1 3]\n"
     ]
    }
   ],
   "source": [
    "v2 = np.array([[2,1,3],[9,5,6]])\n",
    "print(np.min(v2, axis=0))"
   ]
  },
  {
   "cell_type": "code",
   "execution_count": 19,
   "id": "c6592211-60b5-47fe-8f73-3ad7681e183e",
   "metadata": {},
   "outputs": [
    {
     "name": "stdout",
     "output_type": "stream",
     "text": [
      "[0.90929743 0.84147098 0.14112001]\n",
      "[-0.41614684  0.54030231 -0.9899925 ]\n",
      "[2 3 6]\n"
     ]
    }
   ],
   "source": [
    "v2 = np.array([2,1,3])\n",
    "print(np.sin(v2))\n",
    "print(np.cos(v2))\n",
    "print(np.cumsum(v2))"
   ]
  },
  {
   "cell_type": "code",
   "execution_count": null,
   "id": "77dcef90-ee8d-4b82-b188-727043c051ff",
   "metadata": {},
   "outputs": [],
   "source": []
  }
 ],
 "metadata": {
  "kernelspec": {
   "display_name": "Python 3 (ipykernel)",
   "language": "python",
   "name": "python3"
  },
  "language_info": {
   "codemirror_mode": {
    "name": "ipython",
    "version": 3
   },
   "file_extension": ".py",
   "mimetype": "text/x-python",
   "name": "python",
   "nbconvert_exporter": "python",
   "pygments_lexer": "ipython3",
   "version": "3.11.7"
  }
 },
 "nbformat": 4,
 "nbformat_minor": 5
}
