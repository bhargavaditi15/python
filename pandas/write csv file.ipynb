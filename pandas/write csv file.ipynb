{
 "cells": [
  {
   "cell_type": "markdown",
   "id": "34b8fa88-4df7-49f8-bf2b-189e430f16f2",
   "metadata": {},
   "source": [
    "# Write CSV"
   ]
  },
  {
   "cell_type": "code",
   "execution_count": 3,
   "id": "3cf5a24e-aea5-4840-9312-0cf4ed8783be",
   "metadata": {},
   "outputs": [],
   "source": [
    "import pandas as pd"
   ]
  },
  {
   "cell_type": "code",
   "execution_count": 5,
   "id": "2032fe23-a121-4b76-81c8-70d2a22af76f",
   "metadata": {},
   "outputs": [
    {
     "name": "stdout",
     "output_type": "stream",
     "text": [
      "   a  s  d\n",
      "0  1  1  1\n",
      "1  2  2  2\n",
      "2  3  3  3\n",
      "3  4  4  4\n",
      "4  5  5  5\n",
      "5  6  6  6\n"
     ]
    }
   ],
   "source": [
    "dis = {\"a\":[1,2,3,4,5,6],\"s\":[1,2,3,4,5,6],\"d\":[1,2,3,4,5,6]}\n",
    "\n",
    "d = pd.DataFrame(dis)\n",
    "\n",
    "print(d)\n"
   ]
  },
  {
   "cell_type": "code",
   "execution_count": 7,
   "id": "e881e8c5-9b95-4e2f-a9be-067a48ce0a74",
   "metadata": {},
   "outputs": [
    {
     "name": "stdout",
     "output_type": "stream",
     "text": [
      "   a  s  d\n",
      "0  1  1  1\n",
      "1  2  2  2\n",
      "2  3  3  3\n",
      "3  4  4  4\n",
      "4  5  5  5\n",
      "5  6  6  6\n"
     ]
    }
   ],
   "source": [
    "dis = {\"a\":[1,2,3,4,5,6],\"s\":[1,2,3,4,5,6],\"d\":[1,2,3,4,5,6]}\n",
    "\n",
    "d = pd.DataFrame(dis)\n",
    "\n",
    "print(d)\n",
    "d.to_csv(\"test_csv_file\")\n"
   ]
  },
  {
   "cell_type": "code",
   "execution_count": 9,
   "id": "ebd79569-0b15-4b20-bcba-2efda589ff0a",
   "metadata": {},
   "outputs": [
    {
     "name": "stdout",
     "output_type": "stream",
     "text": [
      "   a  s  d\n",
      "0  1  1  1\n",
      "1  2  2  2\n",
      "2  3  3  3\n",
      "3  4  4  4\n",
      "4  5  5  5\n",
      "5  6  6  6\n"
     ]
    }
   ],
   "source": [
    "dis = {\"a\":[1,2,3,4,5,6],\"s\":[1,2,3,4,5,6],\"d\":[1,2,3,4,5,6]}\n",
    "\n",
    "d = pd.DataFrame(dis)\n",
    "\n",
    "print(d)\n",
    "d.to_csv(\"test_csv_file1\", index=False)\n"
   ]
  },
  {
   "cell_type": "code",
   "execution_count": 11,
   "id": "588a94ae-c656-4f42-b854-cecff70e69cc",
   "metadata": {},
   "outputs": [
    {
     "name": "stdout",
     "output_type": "stream",
     "text": [
      "   a  s  d\n",
      "0  1  1  1\n",
      "1  2  2  2\n",
      "2  3  3  3\n",
      "3  4  4  4\n",
      "4  5  5  5\n",
      "5  6  6  6\n"
     ]
    }
   ],
   "source": [
    "dis = {\"a\":[1,2,3,4,5,6],\"s\":[1,2,3,4,5,6],\"d\":[1,2,3,4,5,6]}\n",
    "\n",
    "d = pd.DataFrame(dis)\n",
    "\n",
    "print(d)\n",
    "d.to_csv(\"test_csv_file2\", index=False, header=[1,2,3])\n"
   ]
  },
  {
   "cell_type": "code",
   "execution_count": null,
   "id": "40944db9-6268-4e2b-8870-f75631b45ace",
   "metadata": {},
   "outputs": [],
   "source": []
  }
 ],
 "metadata": {
  "kernelspec": {
   "display_name": "Python 3 (ipykernel)",
   "language": "python",
   "name": "python3"
  },
  "language_info": {
   "codemirror_mode": {
    "name": "ipython",
    "version": 3
   },
   "file_extension": ".py",
   "mimetype": "text/x-python",
   "name": "python",
   "nbconvert_exporter": "python",
   "pygments_lexer": "ipython3",
   "version": "3.11.7"
  }
 },
 "nbformat": 4,
 "nbformat_minor": 5
}
