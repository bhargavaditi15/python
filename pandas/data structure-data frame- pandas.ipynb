{
 "cells": [
  {
   "cell_type": "markdown",
   "id": "304c591b-b429-477d-9c8a-c873ffb78bbc",
   "metadata": {},
   "source": [
    "# Data Frame"
   ]
  },
  {
   "cell_type": "code",
   "execution_count": 3,
   "id": "fa13c35a-a5b5-4360-98c3-2b6cb2961f7e",
   "metadata": {},
   "outputs": [],
   "source": [
    "import pandas as pd"
   ]
  },
  {
   "cell_type": "code",
   "execution_count": 7,
   "id": "16ea00a4-f720-4321-b737-5f511365599a",
   "metadata": {},
   "outputs": [
    {
     "name": "stdout",
     "output_type": "stream",
     "text": [
      "<class 'pandas.core.frame.DataFrame'>\n"
     ]
    }
   ],
   "source": [
    "#list ki help se df\n",
    "l = [1,2,3,4,5,6]\n",
    "\n",
    "var = pd.DataFrame(l)\n",
    "\n",
    "print(type(var))"
   ]
  },
  {
   "cell_type": "code",
   "execution_count": 13,
   "id": "630cb982-3402-449c-81a0-339da06ba1f0",
   "metadata": {},
   "outputs": [
    {
     "name": "stdout",
     "output_type": "stream",
     "text": [
      "<class 'pandas.core.frame.DataFrame'>\n",
      "   a  s\n",
      "0  1  1\n",
      "1  2  2\n",
      "2  3  3\n",
      "3  4  4\n",
      "4  5  5\n"
     ]
    }
   ],
   "source": [
    "#dic ki help se df\n",
    "#length should be same here\n",
    "d = {\"a\":[1,2,3,4,5],\"s\":[1,2,3,4,5]}\n",
    "\n",
    "var1 = pd.DataFrame(d)\n",
    "\n",
    "print(type(var1))\n",
    "print(var1)"
   ]
  },
  {
   "cell_type": "code",
   "execution_count": 25,
   "id": "ca9255a0-52b6-48f2-9e48-1b5bb7b234af",
   "metadata": {},
   "outputs": [
    {
     "name": "stdout",
     "output_type": "stream",
     "text": [
      "<class 'pandas.core.frame.DataFrame'>\n",
      "   a  1\n",
      "0  1  3\n",
      "1  2  4\n",
      "2  3  7\n",
      "3  4  8\n",
      "4  5  9\n"
     ]
    }
   ],
   "source": [
    "#dic ki help se df\n",
    "#length should be same here\n",
    "d = {\"a\":[1,2,3,4,5],\"s\":[1,2,3,4,5],\"d\":[2,3,4,5,6],1:[3,4,7,8,9]}\n",
    "\n",
    "var1 = pd.DataFrame(d, columns=[\"a\",1])\n",
    "\n",
    "print(type(var1))\n",
    "print(var1)"
   ]
  },
  {
   "cell_type": "code",
   "execution_count": 37,
   "id": "17841604-f38d-4aaa-9151-86db9c5030ed",
   "metadata": {},
   "outputs": [
    {
     "name": "stdout",
     "output_type": "stream",
     "text": [
      "<class 'pandas.core.frame.DataFrame'>\n",
      "   a  1\n",
      "a  1  3\n",
      "s  2  4\n",
      "d  3  7\n",
      "f  4  8\n",
      "g  5  9\n"
     ]
    }
   ],
   "source": [
    "#dic ki help se df\n",
    "#length should be same here\n",
    "d = {\"a\":[1,2,3,4,5],\"s\":[1,2,3,4,5],\"d\":[2,3,4,5,6],1:[3,4,7,8,9]}\n",
    "     \n",
    "\n",
    "var1 = pd.DataFrame(d, columns=[\"a\",1],index=[\"a\",\"s\",\"d\",\"f\",\"g\"])\n",
    "\n",
    "print(type(var1))\n",
    "print(var1)"
   ]
  },
  {
   "cell_type": "code",
   "execution_count": 39,
   "id": "a2bdd90e-ff77-4eea-ade4-b3bd8dba8c73",
   "metadata": {},
   "outputs": [
    {
     "name": "stdout",
     "output_type": "stream",
     "text": [
      "<class 'pandas.core.frame.DataFrame'>\n",
      "   a  s  d  1\n",
      "0  1  1  2  3\n",
      "1  2  2  3  4\n",
      "2  3  3  4  7\n",
      "3  4  4  5  8\n",
      "4  5  5  6  9\n"
     ]
    }
   ],
   "source": [
    "#dic ki help se df\n",
    "#length should be same here\n",
    "d = {\"a\":[1,2,3,4,5],\"s\":[1,2,3,4,5],\"d\":[2,3,4,5,6],1:[3,4,7,8,9]}\n",
    "     \n",
    "\n",
    "var1 = pd.DataFrame(d)\n",
    "\n",
    "print(type(var1))\n",
    "print(var1)"
   ]
  },
  {
   "cell_type": "code",
   "execution_count": 45,
   "id": "cec730c9-89ce-4b88-a1d7-4b361bc99940",
   "metadata": {},
   "outputs": [
    {
     "name": "stdout",
     "output_type": "stream",
     "text": [
      "<class 'pandas.core.frame.DataFrame'>\n",
      "   a  s  d  1\n",
      "0  1  1  2  3\n",
      "1  2  2  3  4\n",
      "2  3  3  4  7\n",
      "3  4  4  5  8\n",
      "4  5  5  6  9\n",
      "4\n"
     ]
    }
   ],
   "source": [
    "#dic ki help se df\n",
    "#length should be same here\n",
    "d = {\"a\":[1,2,3,4,5],\"s\":[1,2,3,4,5],\"d\":[2,3,4,5,6],1:[3,4,7,8,9]}\n",
    "     \n",
    "\n",
    "var1 = pd.DataFrame(d)\n",
    "\n",
    "print(type(var1))\n",
    "print(var1)\n",
    "print(var1[\"a\"][3])"
   ]
  },
  {
   "cell_type": "code",
   "execution_count": 47,
   "id": "c4bdbd18-32e9-492b-9825-404677980e9e",
   "metadata": {},
   "outputs": [
    {
     "name": "stdout",
     "output_type": "stream",
     "text": [
      "<class 'pandas.core.frame.DataFrame'>\n",
      "    0   1   2   3   4\n",
      "0   1   2   3   4   5\n",
      "1  11  12  13  14  15\n"
     ]
    }
   ],
   "source": [
    "list_1 = [[1,2,3,4,5],[11,12,13,14,15]]\n",
    "\n",
    "var2 = pd.DataFrame(list_1)\n",
    "\n",
    "print(type(var2))\n",
    "print(var2)"
   ]
  },
  {
   "cell_type": "code",
   "execution_count": 49,
   "id": "3ae0e393-5f05-4ec8-b482-496bf3423a77",
   "metadata": {},
   "outputs": [
    {
     "name": "stdout",
     "output_type": "stream",
     "text": [
      "<class 'pandas.core.frame.DataFrame'>\n",
      "   s  r\n",
      "0  1  1\n",
      "1  2  2\n",
      "2  3  3\n",
      "3  4  4\n"
     ]
    }
   ],
   "source": [
    "sr = {\"s\":pd.Series([1,2,3,4]),\"r\":pd.Series([1,2,3,4])}\n",
    "\n",
    "var2 = pd.DataFrame(sr)\n",
    "\n",
    "print(type(var2))\n",
    "print(var2)"
   ]
  },
  {
   "cell_type": "code",
   "execution_count": null,
   "id": "15036032-c22c-447f-b68f-107f9f655da5",
   "metadata": {},
   "outputs": [],
   "source": []
  }
 ],
 "metadata": {
  "kernelspec": {
   "display_name": "Python 3 (ipykernel)",
   "language": "python",
   "name": "python3"
  },
  "language_info": {
   "codemirror_mode": {
    "name": "ipython",
    "version": 3
   },
   "file_extension": ".py",
   "mimetype": "text/x-python",
   "name": "python",
   "nbconvert_exporter": "python",
   "pygments_lexer": "ipython3",
   "version": "3.11.7"
  }
 },
 "nbformat": 4,
 "nbformat_minor": 5
}
