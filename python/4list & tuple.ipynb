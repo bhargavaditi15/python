{
 "cells": [
  {
   "cell_type": "markdown",
   "id": "6b51b289-98a9-4caa-b63d-d0a75568836d",
   "metadata": {},
   "source": [
    "# list"
   ]
  },
  {
   "cell_type": "code",
   "execution_count": 14,
   "id": "47be2627-d216-4227-9ca2-55aacbd8ac1c",
   "metadata": {},
   "outputs": [
    {
     "name": "stdout",
     "output_type": "stream",
     "text": [
      "['apple', ' orange', 5, 3534.6, 'aditi', 'gaurja']\n",
      "apple\n",
      "['grapes', ' orange', 5, 3534.6, 'aditi', 'gaurja']\n",
      "[' orange', 5, 3534.6]\n"
     ]
    }
   ],
   "source": [
    "a = [\"apple\", \" orange\", 5, 3534.6,\"aditi\", \"gaurja\"]\n",
    "print(a)\n",
    "print(a[0])\n",
    "a[0] = \"grapes\"\n",
    "print(a)\n",
    "print(a[1:4])"
   ]
  },
  {
   "cell_type": "markdown",
   "id": "8b7a1e35-0ef5-4251-8304-2ffa4f287dbb",
   "metadata": {},
   "source": [
    "# list methods"
   ]
  },
  {
   "cell_type": "code",
   "execution_count": 43,
   "id": "1dccf528-e858-4a8b-ba5d-fd5e55007a9e",
   "metadata": {},
   "outputs": [
    {
     "name": "stdout",
     "output_type": "stream",
     "text": [
      "['apple', ' orange', 5, 3534.6, 'aditi', 'gaurja', 'rohan']\n",
      "[1, 2, 2, 3, 3, 5, 5, 7, 7, 8, 9]\n",
      "[9, 8, 7, 7, 5, 5, 3, 3, 2, 2, 1]\n",
      "[9, 8, 7, 15052003, 7, 5, 5, 3, 3, 2, 2, 1]\n",
      "[9, 8, 7, 7, 5, 5, 3, 3, 2, 2, 1]\n",
      "7\n",
      "[9, 8, 7, 5, 5, 3, 3, 2, 2, 1]\n",
      "[9, 8, 7, 5, 5, 3, 3, 2, 2]\n"
     ]
    }
   ],
   "source": [
    "#list is mutable mtlb change kr skte hai\n",
    "#string is immutable mtlb change nahi kr skte hai\n",
    "\n",
    "a = [\"apple\", \" orange\", 5, 3534.6,\"aditi\", \"gaurja\"]\n",
    "\n",
    "#append at the end add krna\n",
    "a.append(\"rohan\")\n",
    "print(a)\n",
    "\n",
    "#sort\n",
    "b = [1,5,3,2,7,5,8,9,3,2,7]\n",
    "b.sort()\n",
    "print(b)\n",
    "\n",
    "#reverse\n",
    "b.reverse()\n",
    "print(b)\n",
    "\n",
    "#insert particular index pe add krna hai to\n",
    "b.insert(3, 15052003)\n",
    "print(b) \n",
    "\n",
    "#pop delete particular index element and return its value\n",
    "b.pop(3)\n",
    "print(b)\n",
    "\n",
    "value = b.pop(2)\n",
    "print(value)\n",
    "print(b)\n",
    "\n",
    "#remove \n",
    "b.remove(1)\n",
    "print(b)\n"
   ]
  },
  {
   "cell_type": "markdown",
   "id": "b22f1cc7-2d7b-4e35-9bbb-598819d99c41",
   "metadata": {},
   "source": [
    "# tuples "
   ]
  },
  {
   "cell_type": "code",
   "execution_count": 53,
   "id": "671e1b98-0b58-473d-91cd-a8cf0cd7d0e6",
   "metadata": {},
   "outputs": [
    {
     "name": "stdout",
     "output_type": "stream",
     "text": [
      "(1, 2, 3, 4)\n"
     ]
    }
   ],
   "source": [
    "a = (1,2,3,4)\n",
    "print(a)"
   ]
  },
  {
   "cell_type": "code",
   "execution_count": 63,
   "id": "9dac6528-c5dd-46d1-9fdf-e3b617909034",
   "metadata": {},
   "outputs": [
    {
     "name": "stdout",
     "output_type": "stream",
     "text": [
      "()\n",
      "<class 'tuple'>\n"
     ]
    }
   ],
   "source": [
    "#empty tuple\n",
    "a = ()\n",
    "print(a)\n",
    "print(type(a))"
   ]
  },
  {
   "cell_type": "code",
   "execution_count": 65,
   "id": "3dd38cde-cb83-43b1-9861-c195ce6db7e0",
   "metadata": {},
   "outputs": [],
   "source": [
    "b = (1,2,3,567,\"aditii\")\n",
    "#in tuple we cant change any thing means they are immutable"
   ]
  },
  {
   "cell_type": "markdown",
   "id": "e2afe99e-d5a9-470b-aab8-1bc83fe0df60",
   "metadata": {},
   "source": [
    "# tuple methods"
   ]
  },
  {
   "cell_type": "code",
   "execution_count": 82,
   "id": "b101f781-4bb3-4a9e-b257-4270381361dc",
   "metadata": {},
   "outputs": [
    {
     "name": "stdout",
     "output_type": "stream",
     "text": [
      "(10, 20, 30)\n",
      "1\n",
      "2\n",
      "6\n",
      "10\n",
      "30\n",
      "(2, 'aditi', 'rohan', 'orange')\n"
     ]
    }
   ],
   "source": [
    "a = (1,2,\"aditi\",\"rohan\",\"orange\",\"apple\")\n",
    "print(b)\n",
    "\n",
    "#count\n",
    "no= a.count(2) #means 2 no sirf ek baar aata hai humari list mai\n",
    "print(no)\n",
    "\n",
    "#index\n",
    "i = a.index(\"aditi\")\n",
    "print(i)\n",
    "\n",
    "#length\n",
    "print(len(a))\n",
    "\n",
    "#min and max\n",
    "b = (10,20,30)\n",
    "print(min(b))\n",
    "print(max(b))\n",
    "\n",
    "#slicing but here new tupple will be returned\n",
    "sliced = a[1:5]\n",
    "print(sliced)\n"
   ]
  },
  {
   "cell_type": "markdown",
   "id": "ea503071-0210-48b1-9143-45e779450ef6",
   "metadata": {},
   "source": [
    "# practice set"
   ]
  },
  {
   "cell_type": "code",
   "execution_count": 87,
   "id": "80f3c757-0b22-47c5-982f-415d51345d5c",
   "metadata": {},
   "outputs": [
    {
     "name": "stdin",
     "output_type": "stream",
     "text": [
      "enter fruit name:  apple\n",
      "enter fruit name:  orange\n",
      "enter fruit name:  kiwi\n",
      "enter fruit name:  mango\n",
      "enter fruit name:  cherry\n",
      "enter fruit name:  grapes\n",
      "enter fruit name:  pinrapple\n"
     ]
    },
    {
     "name": "stdout",
     "output_type": "stream",
     "text": [
      "['apple', 'orange', 'kiwi', 'mango', 'cherry', 'grapes', 'pinrapple']\n"
     ]
    }
   ],
   "source": [
    "#1 user will enter fruits name and will store in list\n",
    "\n",
    "fruit = []\n",
    "f1 = input(\"enter fruit name: \")\n",
    "fruit.append(f1)\n",
    "f2 = input(\"enter fruit name: \")\n",
    "fruit.append(f2)\n",
    "f3 = input(\"enter fruit name: \")\n",
    "fruit.append(f3)\n",
    "f4 = input(\"enter fruit name: \")\n",
    "fruit.append(f4)\n",
    "f5 = input(\"enter fruit name: \")\n",
    "fruit.append(f5)\n",
    "f6 = input(\"enter fruit name: \")\n",
    "fruit.append(f6)\n",
    "f7 = input(\"enter fruit name: \")\n",
    "fruit.append(f7)\n",
    "\n",
    "print(fruit)"
   ]
  },
  {
   "cell_type": "code",
   "execution_count": 93,
   "id": "2e6df627-de48-4cb6-96ca-acac1c50869e",
   "metadata": {},
   "outputs": [
    {
     "name": "stdin",
     "output_type": "stream",
     "text": [
      "enter student name:  aditi\n",
      "enter student grade:  a\n",
      "enter student name:  gaurja\n",
      "enter student grade:  a\n",
      "enter student name:  varun\n",
      "enter student grade:  b\n",
      "enter student name:  sona\n",
      "enter student grade:  b\n",
      "enter student name:  harsh\n",
      "enter student grade:  c\n",
      "enter student name:  panda\n",
      "enter student grade:  d\n"
     ]
    },
    {
     "name": "stdout",
     "output_type": "stream",
     "text": [
      "['aditi', 'a', 'gaurja', 'a', 'varun', 'b', 'sona', 'b', 'harsh', 'c', 'panda', 'd']\n",
      "[]\n"
     ]
    }
   ],
   "source": [
    "#2 accept marks of 6 students and display\n",
    "\n",
    "student = []\n",
    "grade = []\n",
    "s1 = input(\"enter student name: \")\n",
    "student.append(s1)\n",
    "g1 = input(\"enter student grade: \")\n",
    "student.append(g1)\n",
    "s2 = input(\"enter student name: \")\n",
    "student.append(s2)\n",
    "g2 = input(\"enter student grade: \")\n",
    "student.append(g2)\n",
    "s3 = input(\"enter student name: \")\n",
    "student.append(s3)\n",
    "g3 = input(\"enter student grade: \")\n",
    "student.append(g3)\n",
    "s4 = input(\"enter student name: \")\n",
    "student.append(s4)\n",
    "g4 = input(\"enter student grade: \")\n",
    "student.append(g4)\n",
    "s5 = input(\"enter student name: \")\n",
    "student.append(s5)\n",
    "g5 = input(\"enter student grade: \")\n",
    "student.append(g5)\n",
    "s6 = input(\"enter student name: \")\n",
    "student.append(s6)\n",
    "g6 = input(\"enter student grade: \")\n",
    "student.append(g6)\n",
    "\n",
    "\n",
    "print(student)\n",
    "print(grade)"
   ]
  },
  {
   "cell_type": "code",
   "execution_count": 95,
   "id": "0dd25cdf-6538-485f-8162-930ef8244276",
   "metadata": {},
   "outputs": [
    {
     "name": "stdout",
     "output_type": "stream",
     "text": [
      "20\n"
     ]
    }
   ],
   "source": [
    "#4 sum a list with 4 numbers\n",
    "\n",
    "li = [2,4,6,8]\n",
    "print(sum(li))\n"
   ]
  },
  {
   "cell_type": "code",
   "execution_count": 99,
   "id": "e4066986-3be9-4763-a2e7-29f5d59f9d1d",
   "metadata": {},
   "outputs": [
    {
     "name": "stdout",
     "output_type": "stream",
     "text": [
      "3\n"
     ]
    }
   ],
   "source": [
    "#5 count the no in the following tuple\n",
    "\n",
    "a = (7,0,8,0,0,9)\n",
    "n = a.count(0)\n",
    "print(n)"
   ]
  },
  {
   "cell_type": "code",
   "execution_count": null,
   "id": "aa988edb-80d3-431f-8423-bdb378b8f75f",
   "metadata": {},
   "outputs": [],
   "source": []
  }
 ],
 "metadata": {
  "kernelspec": {
   "display_name": "Python 3 (ipykernel)",
   "language": "python",
   "name": "python3"
  },
  "language_info": {
   "codemirror_mode": {
    "name": "ipython",
    "version": 3
   },
   "file_extension": ".py",
   "mimetype": "text/x-python",
   "name": "python",
   "nbconvert_exporter": "python",
   "pygments_lexer": "ipython3",
   "version": "3.11.7"
  }
 },
 "nbformat": 4,
 "nbformat_minor": 5
}
