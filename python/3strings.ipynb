{
 "cells": [
  {
   "cell_type": "markdown",
   "id": "e0f4f8ea-ac11-4044-809c-f12fa3fcc451",
   "metadata": {},
   "source": [
    "strings are immutable which means that you cannot change them by running function on them"
   ]
  },
  {
   "cell_type": "code",
   "execution_count": 6,
   "id": "674a6461-8ed6-4409-bdd0-c82b72c7e9f3",
   "metadata": {},
   "outputs": [
    {
     "name": "stdout",
     "output_type": "stream",
     "text": [
      "aditi\n",
      "aditi\n",
      "aditi\n"
     ]
    }
   ],
   "source": [
    "single = 'aditi'\n",
    "double = \"aditi\"\n",
    "triple = '''aditi'''\n",
    "print(single)\n",
    "print(double)\n",
    "print(triple)"
   ]
  },
  {
   "cell_type": "code",
   "execution_count": 10,
   "id": "78a9c81f-5fd3-4981-a596-5c4b378d8ff6",
   "metadata": {},
   "outputs": [
    {
     "name": "stdout",
     "output_type": "stream",
     "text": [
      "adi\n"
     ]
    }
   ],
   "source": [
    "nameshort = name[0:3]\n",
    "print(nameshort)"
   ]
  },
  {
   "cell_type": "code",
   "execution_count": 12,
   "id": "abbfc670-a379-4dde-abfd-4f15cbf54bc0",
   "metadata": {},
   "outputs": [
    {
     "name": "stdout",
     "output_type": "stream",
     "text": [
      "d\n"
     ]
    }
   ],
   "source": [
    "char = name[1]\n",
    "print(char)"
   ]
  },
  {
   "cell_type": "code",
   "execution_count": 16,
   "id": "03579041-acb5-4229-98b8-62ea3b3966df",
   "metadata": {},
   "outputs": [
    {
     "name": "stdout",
     "output_type": "stream",
     "text": [
      "adi\n",
      "diti\n",
      "a\n",
      "adi\n"
     ]
    }
   ],
   "source": [
    "print(name[0:3])\n",
    "print(name[-4:]) #same as[-4:0]\n",
    "print(name[:1]) #same as[0:1]\n",
    "print(name[0:3])"
   ]
  },
  {
   "cell_type": "code",
   "execution_count": 22,
   "id": "a95c7a29-b7b4-471b-83e8-d2f4a3a67baa",
   "metadata": {},
   "outputs": [
    {
     "data": {
      "text/plain": [
       "'acegikm'"
      ]
     },
     "execution_count": 22,
     "metadata": {},
     "output_type": "execute_result"
    }
   ],
   "source": [
    "# slicing with skip value\n",
    "\n",
    "word = \"amazing\"\n",
    "word[1:6:2]\n",
    "\n",
    "a = \"abcdefghijklm\"\n",
    "a[0:13:2]"
   ]
  },
  {
   "cell_type": "markdown",
   "id": "667d1f17-1b18-4381-af95-f1e8cb8ee089",
   "metadata": {},
   "source": [
    "# string function"
   ]
  },
  {
   "cell_type": "code",
   "execution_count": 37,
   "id": "b4f9df47-5b95-49e7-b9eb-d118887203cc",
   "metadata": {},
   "outputs": [
    {
     "name": "stdout",
     "output_type": "stream",
     "text": [
      "7\n",
      "True\n",
      "False\n",
      "Amazing\n",
      "amazing\n",
      "AMAZING\n",
      "Amazing\n"
     ]
    }
   ],
   "source": [
    "name=\"amazing\"\n",
    "\n",
    "print(len(name)) #length of string\n",
    "print(name.endswith(\"ing\"))\n",
    "print(name.startswith(\"ha\"))\n",
    "print(name.capitalize()) #capitalize the first letter\n",
    "print(name.lower()) \n",
    "print(name.upper()) \n",
    "print(name.title()) "
   ]
  },
  {
   "cell_type": "code",
   "execution_count": 41,
   "id": "b0c9c406-1fc6-4383-9702-e18421804c4e",
   "metadata": {},
   "outputs": [
    {
     "name": "stdout",
     "output_type": "stream",
     "text": [
      "hello aditi\n"
     ]
    }
   ],
   "source": [
    "# replace word\n",
    "\n",
    "a = \"hello world\"\n",
    "replace = a.replace(\"world\", \"aditi\")\n",
    "print(replace)"
   ]
  },
  {
   "cell_type": "markdown",
   "id": "c82c427d-6e9f-4c13-9b9d-a3905eaec8cd",
   "metadata": {},
   "source": [
    "# practice set"
   ]
  },
  {
   "cell_type": "code",
   "execution_count": 55,
   "id": "a51c6243-28c0-45fe-b5c2-cf0494460730",
   "metadata": {},
   "outputs": [
    {
     "name": "stdin",
     "output_type": "stream",
     "text": [
      "enter your name:  aditi\n"
     ]
    },
    {
     "name": "stdout",
     "output_type": "stream",
     "text": [
      "good afternoon aditi\n"
     ]
    }
   ],
   "source": [
    "#1 display name followed by good afternoon\n",
    "name = input(\"enter your name: \")\n",
    "\n",
    "print(f\"good afternoon {name}\")"
   ]
  },
  {
   "cell_type": "code",
   "execution_count": 57,
   "id": "5e1e406f-0b82-4b10-a851-55a71f605114",
   "metadata": {},
   "outputs": [
    {
     "name": "stdout",
     "output_type": "stream",
     "text": [
      "dear aditi,\n",
      "            you are selected!\n",
      "            19th september, 2024\n"
     ]
    }
   ],
   "source": [
    "#2 fill name and date in template\n",
    "\n",
    "letter = '''dear <|name|>,\n",
    "            you are selected!\n",
    "            <|date|>'''\n",
    "\n",
    "print(letter.replace(\"<|name|>\", \"aditi\").replace(\"<|date|>\", \"19th september, 2024\"))"
   ]
  },
  {
   "cell_type": "code",
   "execution_count": 69,
   "id": "4bd4061b-037a-49f7-811e-af3ea042ab5e",
   "metadata": {},
   "outputs": [
    {
     "name": "stdout",
     "output_type": "stream",
     "text": [
      "5\n"
     ]
    }
   ],
   "source": [
    "#3 detec double space in string\n",
    "\n",
    "name = \"aditi  bhargava\"\n",
    "print(name.find(\"  \"))\n",
    "#string ka method hota hai find jo ki -1 return krta hai agar occurance nahi mili to aur agar occurance mili to index no return krega\n",
    "\n"
   ]
  },
  {
   "cell_type": "code",
   "execution_count": 79,
   "id": "a0be4147-37af-4624-9ee1-0e4dd9e97aad",
   "metadata": {},
   "outputs": [
    {
     "name": "stdout",
     "output_type": "stream",
     "text": [
      "aditi bhargava \n"
     ]
    }
   ],
   "source": [
    "#4 replace double space from 3 with single space\n",
    "\n",
    "name = \"aditi bhargava  \"\n",
    "print(name.replace(\"  \",\" \"))\n"
   ]
  },
  {
   "cell_type": "code",
   "execution_count": 85,
   "id": "e6ab463a-f203-48bd-81c7-9b7a681c2cd7",
   "metadata": {},
   "outputs": [
    {
     "name": "stdout",
     "output_type": "stream",
     "text": [
      "dear aditi, \n",
      " this python course is nice. \n",
      " thanks!\n"
     ]
    }
   ],
   "source": [
    "#5  use escape sequence\n",
    "\n",
    "letter = \"dear aditi, \\n this python course is nice. \\n thanks!\"\n",
    "print(letter)\n"
   ]
  },
  {
   "cell_type": "code",
   "execution_count": null,
   "id": "f7a8f9ed-b056-40ef-9d37-a871cf1746e5",
   "metadata": {},
   "outputs": [],
   "source": []
  }
 ],
 "metadata": {
  "kernelspec": {
   "display_name": "Python 3 (ipykernel)",
   "language": "python",
   "name": "python3"
  },
  "language_info": {
   "codemirror_mode": {
    "name": "ipython",
    "version": 3
   },
   "file_extension": ".py",
   "mimetype": "text/x-python",
   "name": "python",
   "nbconvert_exporter": "python",
   "pygments_lexer": "ipython3",
   "version": "3.11.7"
  }
 },
 "nbformat": 4,
 "nbformat_minor": 5
}
