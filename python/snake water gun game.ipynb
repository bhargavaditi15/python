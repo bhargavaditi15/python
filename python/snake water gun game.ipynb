{
 "cells": [
  {
   "cell_type": "code",
   "execution_count": 18,
   "id": "345b2fe9-12d1-4087-9e74-ba04b6e0e3eb",
   "metadata": {},
   "outputs": [
    {
     "name": "stdin",
     "output_type": "stream",
     "text": [
      "enter your choice:  w\n"
     ]
    },
    {
     "name": "stdout",
     "output_type": "stream",
     "text": [
      "you choose water\n",
      " computer choose water\n",
      "its a draw\n"
     ]
    }
   ],
   "source": [
    "# snake, water gun game\n",
    "\n",
    "'''\n",
    "    1 for snake\n",
    "    -1 for water\n",
    "    0 for gun '''\n",
    "\n",
    "computer = -1\n",
    "choice  = input(\"enter your choice: \")\n",
    "choicedict = {\"s\" : 1, \"w\" : -1, \"g\" : 0}\n",
    "reversedict = {1: \"snake\", -1: \"water\", 0: \"gun\"}\n",
    "you = choicedict[choice]\n",
    "\n",
    "print(f\"you choose {reversedict[you]}\\n computer choose {reversedict[computer]}\")\n",
    "\n",
    "if(computer == you):\n",
    "    print(\"its a draw\")\n",
    "\n",
    "else:\n",
    "    if(computer == -1 and you ==1):\n",
    "        print(\"you win!\")\n",
    "\n",
    "    elif(computer == -1 and you ==0):\n",
    "        print(\"you lose!\")\n",
    "\n",
    "    elif(computer == 1 and you == -1):\n",
    "        print(\"you lose!\")\n",
    "\n",
    "    elif(computer == 1 and you ==0):\n",
    "        print(\"you win!\")\n",
    "        \n",
    "    elif(computer == 1 and you == -1):\n",
    "        print(\"you win!\")\n",
    "        \n",
    "    elif(computer == 1 and you ==0):\n",
    "        print(\"you lose!\")\n",
    "        \n",
    "    else:\n",
    "        print(\"somthing went wrong!\")\n",
    "            "
   ]
  },
  {
   "cell_type": "code",
   "execution_count": null,
   "id": "2ca53f35-a832-4ffc-9d91-269b06414380",
   "metadata": {},
   "outputs": [],
   "source": []
  }
 ],
 "metadata": {
  "kernelspec": {
   "display_name": "Python 3 (ipykernel)",
   "language": "python",
   "name": "python3"
  },
  "language_info": {
   "codemirror_mode": {
    "name": "ipython",
    "version": 3
   },
   "file_extension": ".py",
   "mimetype": "text/x-python",
   "name": "python",
   "nbconvert_exporter": "python",
   "pygments_lexer": "ipython3",
   "version": "3.11.7"
  }
 },
 "nbformat": 4,
 "nbformat_minor": 5
}
