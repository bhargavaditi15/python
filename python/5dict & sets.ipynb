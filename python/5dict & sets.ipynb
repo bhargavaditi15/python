{
 "cells": [
  {
   "cell_type": "markdown",
   "id": "1746c0b3-db59-4ce9-93d8-f88942e1ecbc",
   "metadata": {},
   "source": [
    "# dictionary"
   ]
  },
  {
   "cell_type": "code",
   "execution_count": 2,
   "id": "1eaf56ca-b9de-40f4-adbd-ddbd2ecbc5a9",
   "metadata": {},
   "outputs": [
    {
     "name": "stdout",
     "output_type": "stream",
     "text": [
      "{'adi': 100, 'rohan': 80, 'avi': 50} <class 'dict'>\n",
      "100\n",
      "50\n"
     ]
    }
   ],
   "source": [
    "marks = {\n",
    "    \"adi\" : 100,\n",
    "    \"rohan\" : 80,\n",
    "    \"avi\" : 50\n",
    "}\n",
    "print(marks, type(marks))\n",
    "print(marks[\"adi\"])\n",
    "print(marks[\"avi\"])"
   ]
  },
  {
   "cell_type": "raw",
   "id": "041ecd55-f297-4815-96dd-64a91294e6e1",
   "metadata": {},
   "source": [
    "unordered\n",
    "mutable\n",
    "indexed\n",
    "cannot contain duplicate keys"
   ]
  },
  {
   "cell_type": "markdown",
   "id": "c1c199c6-7090-4256-8fce-1075515f27e9",
   "metadata": {},
   "source": [
    "# dict methods"
   ]
  },
  {
   "cell_type": "code",
   "execution_count": 4,
   "id": "c99a58ee-96e2-4d23-bab1-e00ff02b29a5",
   "metadata": {},
   "outputs": [
    {
     "name": "stdout",
     "output_type": "stream",
     "text": [
      "dict_items([('adi', 100), ('rohan', 80), ('avi', 50), ('rahul', 20)])\n",
      "dict_keys(['adi', 'rohan', 'avi', 'rahul'])\n",
      "{'adi': 100, 'rohan': 80, 'avi': 70, 'rahul': 20}\n",
      "None\n",
      "80\n",
      "80\n",
      "{'adi': 100, 'rohan': 80, 'avi': 70}\n",
      "{'adi': 100, 'rohan': 80}\n",
      "{}\n",
      "<class 'dict'>\n"
     ]
    }
   ],
   "source": [
    "marks = {\n",
    "    \"adi\" : 100,\n",
    "    \"rohan\" : 80,\n",
    "    \"avi\" : 50,\n",
    "    \"rahul\" : 20\n",
    "}\n",
    "\n",
    "#items dict items ki list dega tuple ke form mai \n",
    "print(marks.items())\n",
    "\n",
    "#keys\n",
    "print(marks.keys())\n",
    "\n",
    "#update\n",
    "marks.update({\"avi\": 70})\n",
    "print(marks)\n",
    "\n",
    "#get \n",
    "print(marks.get(\"aditi\"))\n",
    "print(marks.get(\"rohan\")) #this will give none if key does not exist in the dict\n",
    "print(marks[\"rohan\"]) #this will give error if key does not exist in dict\n",
    "\n",
    "#pop\n",
    "pop = marks.pop(\"rahul\")\n",
    "print(marks)\n",
    "\n",
    "#pop item\n",
    "pop = marks.popitem()\n",
    "print(marks)\n",
    "\n",
    "#empty dict\n",
    "d = {}\n",
    "print(d)\n",
    "print(type(d))"
   ]
  },
  {
   "cell_type": "markdown",
   "id": "37c78596-0a0d-42c2-a58a-6931e6fed2c3",
   "metadata": {},
   "source": [
    "# sets"
   ]
  },
  {
   "cell_type": "raw",
   "id": "dd8aeb7e-03ee-4d04-ae0d-075c3dc70fd7",
   "metadata": {},
   "source": [
    " they are unordered,\n",
    " unindexed # can not access element from index\n",
    " there is no way to change item\n",
    " sets cannot contain duplicate values"
   ]
  },
  {
   "cell_type": "code",
   "execution_count": 6,
   "id": "3c48cb8d-aad8-4577-bc51-42e6a9b42f99",
   "metadata": {},
   "outputs": [
    {
     "data": {
      "text/plain": [
       "set"
      ]
     },
     "execution_count": 6,
     "metadata": {},
     "output_type": "execute_result"
    }
   ],
   "source": [
    "s = {1, 5, 32}\n",
    "\n",
    "#empty set()\n",
    "s = set()\n",
    "type(s)"
   ]
  },
  {
   "cell_type": "code",
   "execution_count": 7,
   "id": "e3ec0958-3f95-4ddc-b183-b600ec0f7cc7",
   "metadata": {},
   "outputs": [
    {
     "name": "stdout",
     "output_type": "stream",
     "text": [
      "{1, 2, 5, 6, 7}\n"
     ]
    }
   ],
   "source": [
    "# item can not be repeated\n",
    "s = {1,2,5,6,7,7,7,7}\n",
    "print(s)\n",
    "#order cant not be maintained in set\n",
    "#existign item ko change nahi kr skte\n",
    "#duplicate value contain nahi kr skte\n",
    "#index ke through access nahi kr sakte"
   ]
  },
  {
   "cell_type": "markdown",
   "id": "4a59ae71-b788-4d26-93fc-b4114f96d8b5",
   "metadata": {},
   "source": [
    "# set methods"
   ]
  },
  {
   "cell_type": "code",
   "execution_count": 9,
   "id": "348fb83c-5497-4ad7-8063-ee83741c0a8e",
   "metadata": {},
   "outputs": [
    {
     "name": "stdout",
     "output_type": "stream",
     "text": [
      "{1, 2, 5, 6, 7, 'aditi'}\n",
      "<class 'set'>\n",
      "{1, 2, 5, 6, 7, 'aditi', 'rohan'}\n",
      "7\n",
      "{2, 5, 6, 7, 'aditi', 'rohan'}\n",
      "{5, 6, 7, 'aditi', 'rohan'}\n"
     ]
    }
   ],
   "source": [
    "s = {1,2,5,6,7,\"aditi\"}\n",
    "print(s)\n",
    "print(type(s))\n",
    "\n",
    "#add\n",
    "s.add(\"rohan\")\n",
    "print(s)\n",
    "\n",
    "#length\n",
    "print(len(s))\n",
    "\n",
    "#remove\n",
    "s.remove(1)\n",
    "print(s)\n",
    "\n",
    "#pop, aage se remove krega \n",
    "s.pop()\n",
    "print(s)"
   ]
  },
  {
   "cell_type": "code",
   "execution_count": 10,
   "id": "a498b7d5-015f-40ff-817c-8a9bf36cc027",
   "metadata": {},
   "outputs": [
    {
     "name": "stdout",
     "output_type": "stream",
     "text": [
      "{1, 6, 7, 8, 45, 78}\n",
      "{32, 1, 45, 78}\n",
      "{6}\n",
      "True\n",
      "False\n"
     ]
    }
   ],
   "source": [
    "#union saaari values ko ek ek baar le lega\n",
    "s1 = {1,45,6}\n",
    "s2 = {7,8,1,78}\n",
    "print(s1.union(s2))\n",
    "\n",
    "#intersection ono set mai common ko lega sirf\n",
    "s1 = {1,32,78,45,6}\n",
    "s2 = {7,8,1,32,45,78}\n",
    "print(s1.intersection(s2)) \n",
    "\n",
    "#difference\n",
    "print(s1.difference(s2)) \n",
    "\n",
    "#issubset jo value hai wo particular us set mai hona chaiye tab he wo ska subset hoga\n",
    "print({1}.issubset(s1))\n",
    "\n",
    "#issuperset\n",
    "print(s1.issuperset(s2)) "
   ]
  },
  {
   "cell_type": "markdown",
   "id": "77a75c71-fe7e-4749-bbdb-ff8b3d9873f8",
   "metadata": {},
   "source": [
    "# practice set"
   ]
  },
  {
   "cell_type": "code",
   "execution_count": 12,
   "id": "63756ea1-77c4-416b-bad4-08d1f90b6bcb",
   "metadata": {},
   "outputs": [
    {
     "name": "stdin",
     "output_type": "stream",
     "text": [
      "enter the word for which you want the meaning:  billi\n"
     ]
    },
    {
     "name": "stdout",
     "output_type": "stream",
     "text": [
      "cat\n"
     ]
    }
   ],
   "source": [
    "#1 create dict\n",
    "\n",
    "words = {\n",
    "    \"madad\" : \"help\",\n",
    "    \"kursi\" : \"chair\",\n",
    "    \"billi\" : \"cat\"\n",
    "}\n",
    "\n",
    "word = input(\"enter the word for which you want the meaning: \")\n",
    "print(words[word])"
   ]
  },
  {
   "cell_type": "code",
   "execution_count": 16,
   "id": "510a1311-9f78-48bd-b80d-1f97a0797167",
   "metadata": {},
   "outputs": [
    {
     "name": "stdin",
     "output_type": "stream",
     "text": [
      "enter 1 no:  3\n",
      "enter 2 no:  4\n",
      "enter 3 no:  5\n",
      "enter 4 no:  6\n",
      "enter 5 no:  7\n",
      "enter 6 no:  8\n",
      "enter 7 no:  9\n",
      "enter 8 no:  0\n"
     ]
    },
    {
     "name": "stdout",
     "output_type": "stream",
     "text": [
      "{0, 3, 4, 5, 6, 7, 8, 9}\n"
     ]
    }
   ],
   "source": [
    "#2 display unique no once\n",
    "\n",
    "s = set()\n",
    "n = input(\"enter 1 no: \")\n",
    "s.add(int(n))\n",
    "n = input(\"enter 2 no: \")\n",
    "s.add(int(n))\n",
    "n = input(\"enter 3 no: \")\n",
    "s.add(int(n))\n",
    "n = input(\"enter 4 no: \")\n",
    "s.add(int(n))\n",
    "n = input(\"enter 5 no: \")\n",
    "s.add(int(n))\n",
    "n = input(\"enter 6 no: \")\n",
    "s.add(int(n))\n",
    "n = input(\"enter 7 no: \")\n",
    "s.add(int(n))\n",
    "n = input(\"enter 8 no: \")\n",
    "s.add(int(n))\n",
    "print(s)\n",
    "\n"
   ]
  },
  {
   "cell_type": "code",
   "execution_count": 18,
   "id": "58bb2c63-eacd-4d92-992e-c12ce9b99c01",
   "metadata": {},
   "outputs": [
    {
     "name": "stdout",
     "output_type": "stream",
     "text": [
      "{'18', 18}\n"
     ]
    }
   ],
   "source": [
    "#3 set with 18 and 18 str as value in it\n",
    "\n",
    "s = set()\n",
    "s.add(18) #int\n",
    "s.add(\"18\") #string\n",
    "print(s)"
   ]
  },
  {
   "cell_type": "code",
   "execution_count": 20,
   "id": "acd81a3b-af59-4eb6-9226-5787fcb4de89",
   "metadata": {},
   "outputs": [
    {
     "name": "stdout",
     "output_type": "stream",
     "text": [
      "{'20', 20}\n"
     ]
    }
   ],
   "source": [
    "#4 \n",
    "\n",
    "# 20 == 20.0 int or float value ko compare krte time py inki value ko determine krta hai ki ye samne hai ya nahi \n",
    "s = set()\n",
    "s.add(20)\n",
    "s.add(20.0)\n",
    "s.add(\"20\")\n",
    "print(s)"
   ]
  },
  {
   "cell_type": "code",
   "execution_count": 22,
   "id": "6b8ad9ff-12ab-44c6-8060-207ded5d048c",
   "metadata": {},
   "outputs": [
    {
     "name": "stdout",
     "output_type": "stream",
     "text": [
      "<class 'dict'>\n"
     ]
    }
   ],
   "source": [
    "#5\n",
    "\n",
    "s = {}\n",
    "print(type(s))"
   ]
  },
  {
   "cell_type": "code",
   "execution_count": 26,
   "id": "295ecea0-877c-4a15-a9e5-f15a00b5532c",
   "metadata": {},
   "outputs": [
    {
     "name": "stdin",
     "output_type": "stream",
     "text": [
      "enter friends name:  aditi\n",
      "enter language name:  py\n",
      "enter friends name:  harsh\n",
      "enter language name:  ml\n",
      "enter friends name:  gaurja\n",
      "enter language name:  ai\n",
      "enter friends name:  panda\n",
      "enter language name:  openai\n"
     ]
    },
    {
     "name": "stdout",
     "output_type": "stream",
     "text": [
      "{'aditi': 'py', 'harsh': 'ml', 'gaurja': 'ai', 'panda': 'openai'}\n"
     ]
    }
   ],
   "source": [
    "#6 empty dict enter data for 4 friends\n",
    "\n",
    "d = {}\n",
    "name = input(\"enter friends name: \")\n",
    "lang = input(\"enter language name: \")\n",
    "d.update({name : lang})\n",
    "name = input(\"enter friends name: \")\n",
    "lang = input(\"enter language name: \")\n",
    "d.update({name : lang})\n",
    "name = input(\"enter friends name: \")\n",
    "lang = input(\"enter language name: \")\n",
    "d.update({name : lang})\n",
    "name = input(\"enter friends name: \")\n",
    "lang = input(\"enter language name: \")\n",
    "d.update({name : lang})\n",
    "\n",
    "print(d)"
   ]
  },
  {
   "cell_type": "code",
   "execution_count": 30,
   "id": "a4cb689d-0b3b-420a-b322-0ff2cefc2568",
   "metadata": {},
   "outputs": [
    {
     "name": "stdin",
     "output_type": "stream",
     "text": [
      "enter friends name:  aditi\n",
      "enter language name:  py\n",
      "enter friends name:  harsh\n",
      "enter language name:  ml\n",
      "enter friends name:  harsh\n",
      "enter language name:  open ai\n",
      "enter friends name:  gaurja\n",
      "enter language name:  ai\n"
     ]
    },
    {
     "name": "stdout",
     "output_type": "stream",
     "text": [
      "{'aditi': 'py', 'harsh': 'open ai', 'gaurja': 'ai'}\n"
     ]
    }
   ],
   "source": [
    "#7 2 student have same name\n",
    "\n",
    "#first name ki value enter hone ke baad agar name same hot ahai to value update ho jaayegi uski\n",
    "d = {}\n",
    "name = input(\"enter friends name: \")\n",
    "lang = input(\"enter language name: \")\n",
    "d.update({name : lang})\n",
    "name = input(\"enter friends name: \")\n",
    "lang = input(\"enter language name: \")\n",
    "d.update({name : lang})\n",
    "name = input(\"enter friends name: \")\n",
    "lang = input(\"enter language name: \")\n",
    "d.update({name : lang})\n",
    "name = input(\"enter friends name: \")\n",
    "lang = input(\"enter language name: \")\n",
    "d.update({name : lang})\n",
    "\n",
    "print(d)\n"
   ]
  },
  {
   "cell_type": "code",
   "execution_count": 32,
   "id": "c3852394-3a08-413f-9398-48e5ffbaec3a",
   "metadata": {},
   "outputs": [
    {
     "name": "stdin",
     "output_type": "stream",
     "text": [
      "enter friends name:  adiit\n",
      "enter language name:  py\n",
      "enter friends name:  harsh\n",
      "enter language name:  py\n",
      "enter friends name:  gracy\n",
      "enter language name:  ml\n",
      "enter friends name:  panda\n",
      "enter language name:  openai\n"
     ]
    },
    {
     "name": "stdout",
     "output_type": "stream",
     "text": [
      "{'adiit': 'py', 'harsh': 'py', 'gracy': 'ml', 'panda': 'openai'}\n"
     ]
    }
   ],
   "source": [
    "#7 2 student have same language\n",
    "\n",
    "d = {}\n",
    "name = input(\"enter friends name: \")\n",
    "lang = input(\"enter language name: \")\n",
    "d.update({name : lang})\n",
    "name = input(\"enter friends name: \")\n",
    "lang = input(\"enter language name: \")\n",
    "d.update({name : lang})\n",
    "name = input(\"enter friends name: \")\n",
    "lang = input(\"enter language name: \")\n",
    "d.update({name : lang})\n",
    "name = input(\"enter friends name: \")\n",
    "lang = input(\"enter language name: \")\n",
    "d.update({name : lang})\n",
    "\n",
    "print(d)"
   ]
  },
  {
   "cell_type": "code",
   "execution_count": null,
   "id": "8a934e95-0af7-4f03-b344-9f7e02460467",
   "metadata": {},
   "outputs": [],
   "source": [
    "#8 change "
   ]
  }
 ],
 "metadata": {
  "kernelspec": {
   "display_name": "Python 3 (ipykernel)",
   "language": "python",
   "name": "python3"
  },
  "language_info": {
   "codemirror_mode": {
    "name": "ipython",
    "version": 3
   },
   "file_extension": ".py",
   "mimetype": "text/x-python",
   "name": "python",
   "nbconvert_exporter": "python",
   "pygments_lexer": "ipython3",
   "version": "3.11.7"
  }
 },
 "nbformat": 4,
 "nbformat_minor": 5
}
