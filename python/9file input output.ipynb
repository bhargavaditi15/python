{
 "cells": [
  {
   "cell_type": "code",
   "execution_count": 4,
   "id": "a04fa011-b3a4-4a76-bfe1-5665844b5295",
   "metadata": {},
   "outputs": [
    {
     "name": "stdout",
     "output_type": "stream",
     "text": [
      "hello how are you!!\n"
     ]
    },
    {
     "data": {
      "text/plain": [
       "<function TextIOWrapper.close()>"
      ]
     },
     "execution_count": 4,
     "metadata": {},
     "output_type": "execute_result"
    }
   ],
   "source": [
    "#read file\n",
    "\n",
    "f = open(\"file.txt\")\n",
    "data = f.read() # file reaading function\n",
    "print(data)\n",
    "f.close #file closing function\n",
    "\n",
    "#open is built in function"
   ]
  },
  {
   "cell_type": "code",
   "execution_count": 6,
   "id": "a05f33d6-8e43-4d37-a4d6-9feb079c0fc2",
   "metadata": {},
   "outputs": [],
   "source": [
    "#write file\n",
    "\n",
    "st = \"aditi you are amazing\"\n",
    "\n",
    "f = open(\"myfile.txt\", \"w\")\n",
    "f.write(st)\n",
    "f.close()"
   ]
  },
  {
   "cell_type": "code",
   "execution_count": 10,
   "id": "75df593f-e044-4918-9b8f-dabc9abbf89e",
   "metadata": {},
   "outputs": [
    {
     "name": "stdout",
     "output_type": "stream",
     "text": [
      "['hello!!\\n', 'how are you!!\\n', 'hope this finds you good \\n', 'are you awake'] <class 'list'>\n"
     ]
    }
   ],
   "source": [
    "# file more functions\n",
    "\n",
    "f = open(\"file.txt\")\n",
    "lines = f.readlines()\n",
    "print(lines, type(lines))\n",
    "f.close()"
   ]
  },
  {
   "cell_type": "code",
   "execution_count": 12,
   "id": "27791ea2-700c-4abc-b5ec-5395806cb5e8",
   "metadata": {},
   "outputs": [
    {
     "name": "stdout",
     "output_type": "stream",
     "text": [
      "hello!!\n",
      " <class 'str'>\n",
      "how are you!!\n",
      " <class 'str'>\n",
      "hope this finds you good \n",
      " <class 'str'>\n"
     ]
    }
   ],
   "source": [
    "# file more functions\n",
    "\n",
    "f = open(\"file.txt\")\n",
    "line1 = f.readline()\n",
    "print(line1, type(line1))\n",
    "line2 = f.readline()\n",
    "print(line2, type(line2))\n",
    "line3 = f.readline()\n",
    "print(line3, type(line3))\n",
    "f.close()"
   ]
  },
  {
   "cell_type": "code",
   "execution_count": 14,
   "id": "724c7c41-adb9-4320-a3a7-01a8f2266098",
   "metadata": {},
   "outputs": [
    {
     "name": "stdout",
     "output_type": "stream",
     "text": [
      "hello!!\n",
      "\n",
      "how are you!!\n",
      "\n",
      "hope this finds you good \n",
      "\n",
      "are you awake\n"
     ]
    }
   ],
   "source": [
    "f = open(\"file.txt\")\n",
    "line = f.readline()\n",
    "while(line != \"\"):\n",
    "    print(line)\n",
    "    line = f.readline()\n",
    "f.close()"
   ]
  },
  {
   "cell_type": "code",
   "execution_count": 23,
   "id": "95fabb43-cd34-4a11-abe2-66c84d092a7f",
   "metadata": {},
   "outputs": [],
   "source": [
    "# app\n",
    "\n",
    "st = \"aditi you are amazing\"\n",
    "\n",
    "f = open(\"myfile.txt\", \"a\")\n",
    "f.write(st)\n",
    "f.close()"
   ]
  },
  {
   "cell_type": "code",
   "execution_count": 25,
   "id": "b0f5935d-19da-4a2a-bccc-2c8fb7da48fe",
   "metadata": {},
   "outputs": [
    {
     "name": "stdout",
     "output_type": "stream",
     "text": [
      "hello!!\n",
      "how are you!!\n",
      "hope this finds you good \n",
      "are you awake\n",
      "hello!!\n",
      "how are you!!\n",
      "hope this finds you good \n",
      "are you awake\n"
     ]
    }
   ],
   "source": [
    "# with statement\n",
    "\n",
    "f = open(\"file.txt\")\n",
    "print(f.read())\n",
    "f.close()\n",
    "#the same can be written using with statement like this:\n",
    "with open(\"file.txt\") as f:\n",
    "    print(f.read())"
   ]
  },
  {
   "cell_type": "code",
   "execution_count": null,
   "id": "2c955c6b-3e36-413a-ac9a-11f72ff721b4",
   "metadata": {},
   "outputs": [],
   "source": []
  }
 ],
 "metadata": {
  "kernelspec": {
   "display_name": "Python 3 (ipykernel)",
   "language": "python",
   "name": "python3"
  },
  "language_info": {
   "codemirror_mode": {
    "name": "ipython",
    "version": 3
   },
   "file_extension": ".py",
   "mimetype": "text/x-python",
   "name": "python",
   "nbconvert_exporter": "python",
   "pygments_lexer": "ipython3",
   "version": "3.11.7"
  }
 },
 "nbformat": 4,
 "nbformat_minor": 5
}
