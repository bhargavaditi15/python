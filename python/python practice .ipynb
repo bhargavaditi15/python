{
 "cells": [
  {
   "cell_type": "code",
   "execution_count": 1,
   "id": "9071147a-9670-4c0d-bcea-6e3708b3ac41",
   "metadata": {},
   "outputs": [
    {
     "name": "stdout",
     "output_type": "stream",
     "text": [
      "the result is =  600\n",
      "the result is =  500\n"
     ]
    }
   ],
   "source": [
    "# 1: Calculate the multiplication and sum of two numbers\n",
    "def multi_sum(number1, number2):\n",
    "    product = number1 * number2\n",
    "    if(product <= 1000):\n",
    "        return product \n",
    "    else: \n",
    "        return number1 + number2\n",
    "\n",
    "result = multi_sum(20,30)\n",
    "print(\"the result is = \",result)\n",
    "result = multi_sum(50,10)\n",
    "print(\"the result is = \",result)"
   ]
  },
  {
   "cell_type": "code",
   "execution_count": 2,
   "id": "f72c9353-6ef1-48a6-bc61-e71ca6c86384",
   "metadata": {},
   "outputs": [
    {
     "name": "stdin",
     "output_type": "stream",
     "text": [
      "enter the first number:  20\n",
      "enter the second number:  50\n"
     ]
    },
    {
     "name": "stdout",
     "output_type": "stream",
     "text": [
      "the sum of two number is:  70\n"
     ]
    }
   ],
   "source": [
    "# 1 add two numbers\n",
    "number1 = int(input(\"enter the first number: \"))\n",
    "number2 = int(input(\"enter the second number: \"))\n",
    "result = number1 + number2\n",
    "print(\"the sum of two number is: \", result)"
   ]
  },
  {
   "cell_type": "code",
   "execution_count": 3,
   "id": "0469a794-bb22-44f8-8e6f-8d73a355576b",
   "metadata": {},
   "outputs": [
    {
     "name": "stdout",
     "output_type": "stream",
     "text": [
      "the sum of two number is 50\n"
     ]
    }
   ],
   "source": [
    "# 1 add two numbers using predefine method\n",
    "num1 = 20\n",
    "num2 = 30\n",
    "print(\"the sum of two number is\", num1+num2)"
   ]
  },
  {
   "cell_type": "code",
   "execution_count": 4,
   "id": "50fd1156-7091-4771-839f-2cc0217b8ab7",
   "metadata": {},
   "outputs": [
    {
     "name": "stdin",
     "output_type": "stream",
     "text": [
      "enter the first number:  20\n"
     ]
    },
    {
     "name": "stdout",
     "output_type": "stream",
     "text": [
      "the square root of a number is:  400\n"
     ]
    }
   ],
   "source": [
    "# 2. find square root\n",
    "number1 = int(input(\"enter the first number: \"))\n",
    "root = number1**2\n",
    "print(\"the square root of a number is: \", root)"
   ]
  },
  {
   "cell_type": "code",
   "execution_count": 5,
   "id": "66e09f52-12ef-4b68-8c07-1826b4b73bfb",
   "metadata": {},
   "outputs": [
    {
     "name": "stdout",
     "output_type": "stream",
     "text": [
      "sqaure root is 3600\n"
     ]
    }
   ],
   "source": [
    "# 2. find square root - predefine method\n",
    "num = 60\n",
    "root = num**2\n",
    "print(\"sqaure root is\", root)"
   ]
  },
  {
   "cell_type": "code",
   "execution_count": 6,
   "id": "af72e452-705b-4958-afd3-523a14e3301b",
   "metadata": {},
   "outputs": [
    {
     "name": "stdin",
     "output_type": "stream",
     "text": [
      "enter the height:  20\n",
      "enter the base:  10\n"
     ]
    },
    {
     "name": "stdout",
     "output_type": "stream",
     "text": [
      "the area of triangle is:  100.0\n"
     ]
    }
   ],
   "source": [
    "# 3. calculate the area of triangle\n",
    "height = float(input(\"enter the height: \"))\n",
    "base = float(input(\"enter the base: \"))\n",
    "area = (1/2)*base*height\n",
    "print(\"the area of triangle is: \",area)"
   ]
  },
  {
   "cell_type": "code",
   "execution_count": 20,
   "id": "a50cef4b-a857-4250-92b4-5fe8ca9a5dcf",
   "metadata": {},
   "outputs": [
    {
     "name": "stdout",
     "output_type": "stream",
     "text": [
      "value of a is:  20\n",
      "value of b is:  10\n"
     ]
    }
   ],
   "source": [
    "# 4. swap two numbers\n",
    "a = 10\n",
    "b = 20\n",
    "c = a\n",
    "a = b\n",
    "print(\"value of a is: \", a)\n",
    "b = c\n",
    "print(\"value of b is: \", c )"
   ]
  },
  {
   "cell_type": "code",
   "execution_count": 22,
   "id": "4334af03-b32c-4025-af8f-b9b0d1b6e96f",
   "metadata": {},
   "outputs": [
    {
     "name": "stdin",
     "output_type": "stream",
     "text": [
      "enter your values in km:  5\n"
     ]
    },
    {
     "name": "stdout",
     "output_type": "stream",
     "text": [
      "5.0 km in miles is 3.106855 miles\n"
     ]
    }
   ],
   "source": [
    "# 5. convertkilometer to miles\n",
    "km = float(input(\"enter your values in km: \"))\n",
    "miles =(0.621371)*km\n",
    "print(km, \"km in miles is\", miles, \"miles\")"
   ]
  },
  {
   "cell_type": "code",
   "execution_count": 26,
   "id": "547edc96-8581-4078-8757-0527b03b3514",
   "metadata": {},
   "outputs": [
    {
     "name": "stdin",
     "output_type": "stream",
     "text": [
      "enter number:  -1\n"
     ]
    },
    {
     "name": "stdout",
     "output_type": "stream",
     "text": [
      "the number is negative\n"
     ]
    }
   ],
   "source": [
    "# 6. check whether no is + or -\n",
    "num = int(input(\"enter number: \"))\n",
    "if num > 0:\n",
    "    print(\"the number is positive\")\n",
    "elif num < 0:\n",
    "    print(\"the number is negative\")\n",
    "else:\n",
    "    print(\"number is zero\")"
   ]
  },
  {
   "cell_type": "code",
   "execution_count": 38,
   "id": "9bd11f94-ca32-47f5-8433-5273ffedef60",
   "metadata": {},
   "outputs": [
    {
     "name": "stdin",
     "output_type": "stream",
     "text": [
      "enter the number:  2\n"
     ]
    },
    {
     "name": "stdout",
     "output_type": "stream",
     "text": [
      "the number is even\n"
     ]
    }
   ],
   "source": [
    "# 7. odd or even\n",
    "num = int(input(\"enter the number: \"))\n",
    "if num%2==0:\n",
    "    print(\"the number is even\")\n",
    "else:\n",
    "    print(\"the number is odd\")"
   ]
  },
  {
   "cell_type": "code",
   "execution_count": 44,
   "id": "995bb86e-55f1-4588-a68a-a078d6258f36",
   "metadata": {},
   "outputs": [
    {
     "name": "stdin",
     "output_type": "stream",
     "text": [
      "enter the year: 2024\n"
     ]
    },
    {
     "name": "stdout",
     "output_type": "stream",
     "text": [
      "the year is leap year\n"
     ]
    }
   ],
   "source": [
    "# 8. leap year\n",
    "year = int(input(\"enter the year:\"))\n",
    "if year%4==0:\n",
    "    print(\"the year is leap year\")\n",
    "else:\n",
    "    print(\"the year is not leap year\")"
   ]
  },
  {
   "cell_type": "code",
   "execution_count": 50,
   "id": "70e2c51c-76a5-400f-918e-e783df3095e2",
   "metadata": {},
   "outputs": [
    {
     "name": "stdin",
     "output_type": "stream",
     "text": [
      "enter the first number:  20\n",
      "enter the second number:  10\n",
      "enter the third number:  100\n"
     ]
    },
    {
     "name": "stdout",
     "output_type": "stream",
     "text": [
      "the third number is the largest number\n"
     ]
    }
   ],
   "source": [
    "# 9. find largest no\n",
    "num1 = int(input(\"enter the first number: \"))\n",
    "num2 = int(input(\"enter the second number: \"))\n",
    "num3 = int(input(\"enter the third number: \"))\n",
    "if (num1>num2 and num1>num3):\n",
    "    print(\"the first number is the largest number\")\n",
    "elif (num2>num1 and num2>3):\n",
    "    print(\"the second number is the largest number\")\n",
    "else:\n",
    "    print(\"the third number is the largest number\")"
   ]
  },
  {
   "cell_type": "code",
   "execution_count": null,
   "id": "56de94a4-660b-4fa9-a868-f0b529ef0a5e",
   "metadata": {},
   "outputs": [],
   "source": []
  }
 ],
 "metadata": {
  "kernelspec": {
   "display_name": "Python 3 (ipykernel)",
   "language": "python",
   "name": "python3"
  },
  "language_info": {
   "codemirror_mode": {
    "name": "ipython",
    "version": 3
   },
   "file_extension": ".py",
   "mimetype": "text/x-python",
   "name": "python",
   "nbconvert_exporter": "python",
   "pygments_lexer": "ipython3",
   "version": "3.11.7"
  }
 },
 "nbformat": 4,
 "nbformat_minor": 5
}
