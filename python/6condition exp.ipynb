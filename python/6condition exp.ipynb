{
 "cells": [
  {
   "cell_type": "markdown",
   "id": "5fe32631-0cf0-40c9-820c-86a2c42bc55d",
   "metadata": {},
   "source": [
    "# conditional statement"
   ]
  },
  {
   "cell_type": "code",
   "execution_count": 5,
   "id": "8c598110-119a-4039-b8ea-bbd61570b684",
   "metadata": {},
   "outputs": [
    {
     "name": "stdin",
     "output_type": "stream",
     "text": [
      "enter age:  51\n"
     ]
    },
    {
     "name": "stdout",
     "output_type": "stream",
     "text": [
      "eligible\n"
     ]
    }
   ],
   "source": [
    "a = int(input(\"enter age: \"))\n",
    "if(a>18):\n",
    "    print(\"eligible\")\n",
    "else:\n",
    "    print(\"no eligible\")"
   ]
  },
  {
   "cell_type": "code",
   "execution_count": 11,
   "id": "ada55a3d-1df4-41b0-86aa-0b97a4d4e0e4",
   "metadata": {},
   "outputs": [
    {
     "name": "stdin",
     "output_type": "stream",
     "text": [
      "enter age:  25\n"
     ]
    },
    {
     "name": "stdout",
     "output_type": "stream",
     "text": [
      "eligible\n"
     ]
    }
   ],
   "source": [
    "# if elif ladder\n",
    "a = int(input(\"enter age: \"))\n",
    "if(a>=18):\n",
    "    print(\"eligible\")\n",
    "elif(a<0):\n",
    "    print(\"entering wrong age\")\n",
    "elif(a==0):\n",
    "    print(\"enter not valid age\")\n",
    "else:\n",
    "    print(\"no eligible\")"
   ]
  },
  {
   "cell_type": "code",
   "execution_count": 25,
   "id": "e212a820-797e-4482-b67d-3924bb8026c0",
   "metadata": {},
   "outputs": [
    {
     "name": "stdin",
     "output_type": "stream",
     "text": [
      "enter your marks:  20\n"
     ]
    },
    {
     "name": "stdout",
     "output_type": "stream",
     "text": [
      "sorry!! you are fail, better luck next time\n"
     ]
    }
   ],
   "source": [
    "#comparison or relational are same\n",
    "\n",
    "a = int(input(\"enter your marks: \"))\n",
    "if(a>=90):\n",
    "    print(\"your grade is A\")\n",
    "elif(a>=80):\n",
    "    print(\"your grade is B\")\n",
    "elif(a>=70):\n",
    "    print(\"your grade is C\")\n",
    "elif(a>=60):\n",
    "    print(\"your grade is D\")\n",
    "elif(a>=50):\n",
    "    print(\"your grade is E\")\n",
    "else:\n",
    "    print(\"sorry!! you are fail, better luck next time\")"
   ]
  },
  {
   "cell_type": "markdown",
   "id": "d6c95fc6-85f0-4f07-8914-3f6a17e069c3",
   "metadata": {},
   "source": [
    "# practice set"
   ]
  },
  {
   "cell_type": "code",
   "execution_count": 4,
   "id": "0adce25f-5493-4547-9dd8-343fcf2b3ce1",
   "metadata": {},
   "outputs": [
    {
     "name": "stdin",
     "output_type": "stream",
     "text": [
      "enter number 1:  45\n",
      "enter number 2:  89\n",
      "enter number 3:  898\n",
      "enter number 4:  12\n"
     ]
    },
    {
     "name": "stdout",
     "output_type": "stream",
     "text": [
      "greatest no is a3:  898\n"
     ]
    }
   ],
   "source": [
    "#1 \n",
    "\n",
    "a1 = int(input(\"enter number 1: \"))\n",
    "a2 = int(input(\"enter number 2: \"))\n",
    "a3 = int(input(\"enter number 3: \"))\n",
    "a4 = int(input(\"enter number 4: \"))\n",
    "\n",
    "if(a1>a2 and a1>a3 and a1>a4):\n",
    "    print(\"greatest no is a1: \", a1)\n",
    "elif(a2>a1 and a2>a3 and a2>a4):\n",
    "    print(\"greatest no is a2: \", a2)\n",
    "elif(a3>a1 and a3>a2 and a3>a4):\n",
    "    print(\"greatest no is a3: \", a3)\n",
    "elif(a4>a1 and a4>a2 and a4>a3):\n",
    "    print(\"greatest no is a4: \", a4)"
   ]
  },
  {
   "cell_type": "code",
   "execution_count": 5,
   "id": "ef4ad5f7-06a3-4e6a-81c4-6bb384c268fe",
   "metadata": {},
   "outputs": [
    {
     "name": "stdin",
     "output_type": "stream",
     "text": [
      "enter marks 1:  78\n",
      "enter marks 2:  45\n",
      "enter marks 3:  12\n"
     ]
    },
    {
     "name": "stdout",
     "output_type": "stream",
     "text": [
      "better luck next time 45.0\n"
     ]
    }
   ],
   "source": [
    "#2\n",
    "\n",
    "marks1 = int(input(\"enter marks 1: \"))\n",
    "marks2 = int(input(\"enter marks 2: \"))\n",
    "marks3 = int(input(\"enter marks 3: \"))\n",
    "\n",
    "total_percentage = (100*(marks1 + marks2 + marks3))/300\n",
    "\n",
    "if(totla_percentage>=40 and marks1>=33 and marks2>=33 and marks3>=33):\n",
    "    print(\"you are pass\", total_percentage)\n",
    "\n",
    "else:\n",
    "    print(\"better luck next time\", total_percentage)"
   ]
  },
  {
   "cell_type": "code",
   "execution_count": 13,
   "id": "6aa7b42f-bf9b-4111-84d3-e074b2a4810c",
   "metadata": {},
   "outputs": [
    {
     "name": "stdin",
     "output_type": "stream",
     "text": [
      "ente your comment:  buy now\n"
     ]
    },
    {
     "name": "stdout",
     "output_type": "stream",
     "text": [
      "this comment is spam\n"
     ]
    }
   ],
   "source": [
    "#3\n",
    "p1 = \"make a lot of money\"\n",
    "p2 = \"buy now\"\n",
    "p3 = \"subscribe this\"\n",
    "p4 = \"click this\"\n",
    "\n",
    "message = input(\"ente your comment: \")\n",
    "\n",
    "if((p1 in message) or (p2 in message) or (p3 in message) or (p4 in message)):\n",
    "    print(\"this comment is spam\")\n",
    "else:\n",
    "    (\"this is not\")"
   ]
  },
  {
   "cell_type": "code",
   "execution_count": 17,
   "id": "b2240350-9c03-468a-b853-7982635fd410",
   "metadata": {},
   "outputs": [
    {
     "name": "stdin",
     "output_type": "stream",
     "text": [
      "enter user name:  hey my name is aditi what is yours\n"
     ]
    },
    {
     "name": "stdout",
     "output_type": "stream",
     "text": [
      "username contain more than 10 char\n"
     ]
    }
   ],
   "source": [
    "#4 \n",
    "username = input(\"enter user name: \")\n",
    "\n",
    "if(len(username)<10):\n",
    "    print(\"it contain less than 10\")\n",
    "else:\n",
    "    print(\"username contain more than 10 char\")"
   ]
  },
  {
   "cell_type": "code",
   "execution_count": null,
   "id": "75ffbceb-aeaf-4fe6-88ff-8f25c721ce97",
   "metadata": {},
   "outputs": [],
   "source": []
  }
 ],
 "metadata": {
  "kernelspec": {
   "display_name": "Python 3 (ipykernel)",
   "language": "python",
   "name": "python3"
  },
  "language_info": {
   "codemirror_mode": {
    "name": "ipython",
    "version": 3
   },
   "file_extension": ".py",
   "mimetype": "text/x-python",
   "name": "python",
   "nbconvert_exporter": "python",
   "pygments_lexer": "ipython3",
   "version": "3.11.7"
  }
 },
 "nbformat": 4,
 "nbformat_minor": 5
}
