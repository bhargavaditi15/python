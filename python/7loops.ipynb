{
 "cells": [
  {
   "cell_type": "markdown",
   "id": "dae581c8-3d36-4c37-ae3e-ed56d53e7d15",
   "metadata": {},
   "source": [
    "# loops"
   ]
  },
  {
   "cell_type": "code",
   "execution_count": 5,
   "id": "3b7ffd18-828f-4663-a50d-efc6db5d0090",
   "metadata": {},
   "outputs": [
    {
     "name": "stdout",
     "output_type": "stream",
     "text": [
      "1\n",
      "2\n",
      "3\n",
      "4\n",
      "5\n"
     ]
    }
   ],
   "source": [
    "for i in range(1, 6):\n",
    "    print(i)"
   ]
  },
  {
   "cell_type": "code",
   "execution_count": 3,
   "id": "9346c82a-8ce0-4533-b2d5-f3dc8cfd133d",
   "metadata": {},
   "outputs": [
    {
     "name": "stdout",
     "output_type": "stream",
     "text": [
      "1\n",
      "2\n",
      "3\n",
      "4\n",
      "5\n"
     ]
    }
   ],
   "source": [
    "i = 1\n",
    "while(i<6):\n",
    "    print(i)\n",
    "    i += 1"
   ]
  },
  {
   "cell_type": "code",
   "execution_count": 4,
   "id": "ecb99e24-8f83-4222-a8ca-ba645ef7e0ca",
   "metadata": {},
   "outputs": [
    {
     "name": "stdout",
     "output_type": "stream",
     "text": [
      "1\n",
      "2\n",
      "3\n",
      "4\n",
      "5\n",
      "6\n",
      "7\n",
      "8\n",
      "9\n",
      "10\n",
      "11\n",
      "12\n",
      "13\n",
      "14\n",
      "15\n",
      "16\n",
      "17\n",
      "18\n",
      "19\n",
      "20\n",
      "21\n",
      "22\n",
      "23\n",
      "24\n",
      "25\n",
      "26\n",
      "27\n",
      "28\n",
      "29\n",
      "30\n",
      "31\n",
      "32\n",
      "33\n",
      "34\n",
      "35\n",
      "36\n",
      "37\n",
      "38\n",
      "39\n",
      "40\n",
      "41\n",
      "42\n",
      "43\n",
      "44\n",
      "45\n",
      "46\n",
      "47\n",
      "48\n",
      "49\n",
      "50\n"
     ]
    }
   ],
   "source": [
    "# print from 1 to 50\n",
    "\n",
    "i =1\n",
    "while(i<=50):\n",
    "    print(i)\n",
    "    i += 1"
   ]
  },
  {
   "cell_type": "code",
   "execution_count": 8,
   "id": "b460cb30-0da1-4f66-8bcd-92a84ce1db36",
   "metadata": {},
   "outputs": [
    {
     "name": "stdout",
     "output_type": "stream",
     "text": [
      "aditi\n",
      "aditi\n",
      "aditi\n",
      "aditi\n",
      "aditi\n",
      "aditi\n"
     ]
    }
   ],
   "source": [
    "# i = 0\n",
    "# while(i<=5):\n",
    "#     print(\"aditi\")\n",
    "#     i = i + 1"
   ]
  },
  {
   "cell_type": "code",
   "execution_count": 16,
   "id": "ddf03c23-8b79-4c7f-b94e-170fe93e51d0",
   "metadata": {},
   "outputs": [
    {
     "name": "stdout",
     "output_type": "stream",
     "text": [
      "1\n",
      "aditi\n",
      "false\n",
      "this\n",
      "rohan\n",
      "rahul\n",
      "shubh\n"
     ]
    }
   ],
   "source": [
    "l = [1, \"aditi\", \"false\", \"this\",\"rohan\",\"rahul\",\"shubh\"]\n",
    "i = 0\n",
    "while(i<len(l)):\n",
    "    print(l[i])\n",
    "    i += 1"
   ]
  },
  {
   "cell_type": "code",
   "execution_count": 20,
   "id": "5ddb55f1-530f-4fce-b616-16a5d86586d2",
   "metadata": {},
   "outputs": [
    {
     "name": "stdout",
     "output_type": "stream",
     "text": [
      "0\n",
      "1\n",
      "2\n",
      "3\n"
     ]
    }
   ],
   "source": [
    "for i in range(4):\n",
    "    print(i)"
   ]
  },
  {
   "cell_type": "code",
   "execution_count": 22,
   "id": "1943f320-2199-421f-9db9-499e4db5f9e5",
   "metadata": {},
   "outputs": [
    {
     "name": "stdout",
     "output_type": "stream",
     "text": [
      "0\n",
      "4\n",
      "8\n",
      "12\n",
      "16\n",
      "20\n",
      "24\n",
      "28\n",
      "32\n",
      "36\n",
      "40\n",
      "44\n",
      "48\n",
      "52\n",
      "56\n",
      "60\n",
      "64\n",
      "68\n",
      "72\n",
      "76\n",
      "80\n",
      "84\n",
      "88\n",
      "92\n",
      "96\n"
     ]
    }
   ],
   "source": [
    "for i in range(0, 100, 4):\n",
    "    print(i)"
   ]
  },
  {
   "cell_type": "code",
   "execution_count": 34,
   "id": "328ca325-9e66-4598-85e8-77a8b9ecb9d3",
   "metadata": {},
   "outputs": [
    {
     "name": "stdout",
     "output_type": "stream",
     "text": [
      "1\n",
      "4\n",
      "6\n",
      "234\n",
      "6\n",
      "764\n",
      "\n",
      "6\n",
      "231\n",
      "75\n",
      "122\n",
      "\n",
      "a\n",
      "d\n",
      "i\n",
      "t\n",
      "i\n"
     ]
    }
   ],
   "source": [
    "l = [1,4,6,234, 6, 764]\n",
    "for i in l:\n",
    "    print(i)\n",
    "print()\n",
    "t = (6,231,75,122)\n",
    "for i in t:\n",
    "    print(i)\n",
    "print()\n",
    "s = \"aditi\"\n",
    "for i in s:\n",
    "    print(i)"
   ]
  },
  {
   "cell_type": "code",
   "execution_count": 36,
   "id": "2631c410-e8af-448a-a838-cb918d51f269",
   "metadata": {},
   "outputs": [
    {
     "name": "stdout",
     "output_type": "stream",
     "text": [
      "1\n",
      "3\n",
      "5\n",
      "done\n"
     ]
    }
   ],
   "source": [
    "# jab tk value milegi print krega value bnd hui milna to else ko print krega\n",
    "\n",
    "l = [1,3,5]\n",
    "for item in l:\n",
    "    print(item)\n",
    "\n",
    "else:\n",
    "    print(\"done\")"
   ]
  },
  {
   "cell_type": "code",
   "execution_count": 42,
   "id": "b5e1cd11-32d1-48fd-9b44-8e71ba309331",
   "metadata": {},
   "outputs": [
    {
     "name": "stdout",
     "output_type": "stream",
     "text": [
      "0\n",
      "1\n",
      "2\n",
      "3\n",
      "4\n",
      "5\n",
      "6\n",
      "7\n",
      "8\n",
      "9\n",
      "10\n",
      "11\n",
      "12\n",
      "13\n",
      "14\n",
      "15\n",
      "16\n",
      "17\n",
      "18\n",
      "19\n",
      "20\n",
      "21\n",
      "22\n",
      "23\n",
      "24\n",
      "25\n",
      "26\n",
      "27\n",
      "28\n",
      "29\n",
      "30\n",
      "31\n",
      "32\n",
      "33\n"
     ]
    }
   ],
   "source": [
    "# break\n",
    "\n",
    "for i in range(100):\n",
    "    if (i ==34):\n",
    "        break  #sb bhul ke exit mar do\n",
    "    print(i)"
   ]
  },
  {
   "cell_type": "code",
   "execution_count": 44,
   "id": "66f08fed-e677-4bcd-b22a-90f6102e1287",
   "metadata": {},
   "outputs": [
    {
     "name": "stdout",
     "output_type": "stream",
     "text": [
      "0\n",
      "1\n",
      "2\n",
      "3\n",
      "4\n",
      "5\n",
      "6\n",
      "7\n",
      "8\n",
      "9\n",
      "10\n",
      "11\n",
      "12\n",
      "13\n",
      "14\n",
      "15\n",
      "16\n",
      "17\n",
      "18\n",
      "19\n",
      "20\n",
      "21\n",
      "22\n",
      "23\n",
      "24\n",
      "25\n",
      "26\n",
      "27\n",
      "28\n",
      "29\n",
      "30\n",
      "31\n",
      "32\n",
      "33\n",
      "35\n",
      "36\n",
      "37\n",
      "38\n",
      "39\n",
      "40\n",
      "41\n",
      "42\n",
      "43\n",
      "44\n",
      "45\n",
      "46\n",
      "47\n",
      "48\n",
      "49\n",
      "50\n",
      "51\n",
      "52\n",
      "53\n",
      "54\n",
      "55\n",
      "56\n",
      "57\n",
      "58\n",
      "59\n",
      "60\n",
      "61\n",
      "62\n",
      "63\n",
      "64\n",
      "65\n",
      "66\n",
      "67\n",
      "68\n",
      "69\n",
      "70\n",
      "71\n",
      "72\n",
      "73\n",
      "74\n",
      "75\n",
      "76\n",
      "77\n",
      "78\n",
      "79\n",
      "80\n",
      "81\n",
      "82\n",
      "83\n",
      "84\n",
      "85\n",
      "86\n",
      "87\n",
      "88\n",
      "89\n",
      "90\n",
      "91\n",
      "92\n",
      "93\n",
      "94\n",
      "95\n",
      "96\n",
      "97\n",
      "98\n",
      "99\n"
     ]
    }
   ],
   "source": [
    "# continue\n",
    "\n",
    "for i in range(100):\n",
    "    if (i ==34):\n",
    "        continue  #ye us particular itereation ko skip krega         #\n",
    "    print(i)"
   ]
  },
  {
   "cell_type": "code",
   "execution_count": 52,
   "id": "792c2c2c-34e2-4092-9f44-0c13bcbe85df",
   "metadata": {},
   "outputs": [
    {
     "name": "stdout",
     "output_type": "stream",
     "text": [
      "0\n",
      "1\n",
      "2\n",
      "3\n",
      "4\n",
      "5\n",
      "6\n",
      "7\n",
      "8\n",
      "9\n",
      "10\n",
      "11\n",
      "12\n",
      "13\n",
      "14\n",
      "15\n",
      "16\n",
      "17\n",
      "18\n",
      "19\n",
      "20\n",
      "21\n",
      "22\n",
      "23\n",
      "24\n",
      "25\n",
      "26\n",
      "27\n",
      "28\n",
      "29\n",
      "30\n",
      "31\n",
      "32\n",
      "33\n",
      "34\n",
      "35\n",
      "36\n",
      "37\n",
      "38\n",
      "39\n",
      "40\n",
      "41\n",
      "42\n",
      "43\n",
      "44\n"
     ]
    }
   ],
   "source": [
    "#pass\n",
    "\n",
    "for i in range(50):\n",
    "    pass #ye statement chod do phele jo krna hai usse complete krlo \n",
    "\n",
    "i = 0\n",
    "while(i<45):\n",
    "   print(i)\n",
    "   i += 1\n",
    "\n"
   ]
  },
  {
   "cell_type": "markdown",
   "id": "afc6e42b-a552-43f3-86bf-4985414e9427",
   "metadata": {},
   "source": [
    "# practice set"
   ]
  },
  {
   "cell_type": "code",
   "execution_count": 55,
   "id": "6a529f99-5958-427f-a641-aafd18bfabd5",
   "metadata": {},
   "outputs": [
    {
     "name": "stdin",
     "output_type": "stream",
     "text": [
      "enter the number:  8\n"
     ]
    },
    {
     "name": "stdout",
     "output_type": "stream",
     "text": [
      "8 X 1 = 8\n",
      "8 X 2 = 16\n",
      "8 X 3 = 24\n",
      "8 X 4 = 32\n",
      "8 X 5 = 40\n",
      "8 X 6 = 48\n",
      "8 X 7 = 56\n",
      "8 X 8 = 64\n",
      "8 X 9 = 72\n",
      "8 X 10 = 80\n"
     ]
    }
   ],
   "source": [
    "#1 print tble\n",
    "\n",
    "n = int(input(\"enter the number: \"))\n",
    "\n",
    "for i in range(1, 11):\n",
    "    print(f\"{n} X {i} = {n*i}\") \n"
   ]
  },
  {
   "cell_type": "code",
   "execution_count": 8,
   "id": "70114d4d-b702-4902-b676-78ba89de1ac3",
   "metadata": {},
   "outputs": [
    {
     "name": "stdout",
     "output_type": "stream",
     "text": [
      "hello harsh\n",
      "hello harsh\n"
     ]
    }
   ],
   "source": [
    "#2 get person name starts with s\n",
    "\n",
    "l = [\"aditi\", \"harsh\", \"harsh\",\"vikas\",\"raj\",\"gaurja\"]\n",
    "\n",
    "for name in l:\n",
    "    if(name.startswith(\"h\")):\n",
    "        print(f\"hello {name}\")"
   ]
  },
  {
   "cell_type": "code",
   "execution_count": 10,
   "id": "99a1b7f5-aa91-4e81-80b1-76156e7329a3",
   "metadata": {},
   "outputs": [
    {
     "name": "stdin",
     "output_type": "stream",
     "text": [
      "enter the number:  2\n"
     ]
    },
    {
     "name": "stdout",
     "output_type": "stream",
     "text": [
      "2 X 1 = 2\n",
      "2 X 2 = 4\n",
      "2 X 3 = 6\n",
      "2 X 4 = 8\n",
      "2 X 5 = 10\n",
      "2 X 6 = 12\n",
      "2 X 7 = 14\n",
      "2 X 8 = 16\n",
      "2 X 9 = 18\n",
      "2 X 10 = 20\n"
     ]
    }
   ],
   "source": [
    "# 3 tble using while loop\n",
    "\n",
    "n = int(input(\"enter the number: \"))\n",
    "\n",
    "i =1\n",
    "while(i<11):\n",
    "    print(f\"{n} X {i} = {n*i}\") \n",
    "    i += 1\n"
   ]
  },
  {
   "cell_type": "code",
   "execution_count": null,
   "id": "94d56851-297d-4a2f-9332-f037e45a05e3",
   "metadata": {},
   "outputs": [],
   "source": []
  }
 ],
 "metadata": {
  "kernelspec": {
   "display_name": "Python 3 (ipykernel)",
   "language": "python",
   "name": "python3"
  },
  "language_info": {
   "codemirror_mode": {
    "name": "ipython",
    "version": 3
   },
   "file_extension": ".py",
   "mimetype": "text/x-python",
   "name": "python",
   "nbconvert_exporter": "python",
   "pygments_lexer": "ipython3",
   "version": "3.11.7"
  }
 },
 "nbformat": 4,
 "nbformat_minor": 5
}
