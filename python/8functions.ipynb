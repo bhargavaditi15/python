{
 "cells": [
  {
   "cell_type": "code",
   "execution_count": 2,
   "id": "952e1c5f-db3e-46ac-a755-b4dee88ed240",
   "metadata": {},
   "outputs": [
    {
     "name": "stdin",
     "output_type": "stream",
     "text": [
      "enter your number:  5\n",
      "enter your number:  5\n",
      "enter your number:  55\n"
     ]
    },
    {
     "name": "stdout",
     "output_type": "stream",
     "text": [
      "21.666666666666668\n"
     ]
    }
   ],
   "source": [
    "def avg():\n",
    "    a = int(input(\"enter your number: \"))\n",
    "    b = int(input(\"enter your number: \"))\n",
    "    c = int(input(\"enter your number: \"))\n",
    "\n",
    "    average = (a+b+c)/3\n",
    "    print(average)\n",
    "\n",
    "avg()"
   ]
  },
  {
   "cell_type": "code",
   "execution_count": 4,
   "id": "e423bc14-7ed7-433c-880f-57060a2b06ff",
   "metadata": {},
   "outputs": [
    {
     "name": "stdout",
     "output_type": "stream",
     "text": [
      "hello world\n"
     ]
    }
   ],
   "source": [
    "def hello():\n",
    "    print(\"hello world\")\n",
    "hello()"
   ]
  },
  {
   "cell_type": "code",
   "execution_count": 20,
   "id": "55c14a75-8c1c-4649-ad3f-b34e1c422ad9",
   "metadata": {},
   "outputs": [
    {
     "name": "stdout",
     "output_type": "stream",
     "text": [
      "hello world, aditi\n",
      "thank you\n",
      "hello world, rohan\n",
      "thanks\n"
     ]
    }
   ],
   "source": [
    "#func arguments\n",
    "\n",
    "def hello(name, end):\n",
    "    print(\"hello world, \" +name)\n",
    "    print(end)\n",
    "    \n",
    "hello(\"aditi\", \"thank you\")\n",
    "hello(\"rohan\", \"thanks\")"
   ]
  },
  {
   "cell_type": "code",
   "execution_count": 24,
   "id": "6207fba5-08dc-434c-9913-13992beee516",
   "metadata": {},
   "outputs": [
    {
     "name": "stdout",
     "output_type": "stream",
     "text": [
      "hello world, aditi\n",
      "thank you\n",
      "dome\n"
     ]
    }
   ],
   "source": [
    "#return\n",
    "\n",
    "def hello(name, end):\n",
    "    print(\"hello world, \" +name)\n",
    "    print(end)\n",
    "    return \"dome\"\n",
    "    \n",
    "a= hello(\"aditi\", \"thank you\")\n",
    "print(a)"
   ]
  },
  {
   "cell_type": "code",
   "execution_count": 26,
   "id": "3b2faf7f-9062-4867-afe8-ad8906ff014f",
   "metadata": {},
   "outputs": [
    {
     "name": "stdout",
     "output_type": "stream",
     "text": [
      "hello world, aditi\n",
      "thanks\n",
      "hello world, rohan\n",
      "thanks\n"
     ]
    }
   ],
   "source": [
    "#default parameter\n",
    "\n",
    "def hello(name, end=\"thanks\"):\n",
    "    print(f\"hello world, {name}\")\n",
    "    print(end)\n",
    "    \n",
    "hello(\"aditi\", \"thanks\")\n",
    "hello(\"rohan\")"
   ]
  },
  {
   "cell_type": "code",
   "execution_count": 34,
   "id": "323cb50f-4fb9-4b93-84ca-d5f421a9cfa7",
   "metadata": {},
   "outputs": [
    {
     "name": "stdin",
     "output_type": "stream",
     "text": [
      "enter a number:  25\n"
     ]
    },
    {
     "name": "stdout",
     "output_type": "stream",
     "text": [
      "output is: 15511210043330985984000000\n"
     ]
    }
   ],
   "source": [
    "#recursion\n",
    "\n",
    "def fact(n):\n",
    "    if(n==1 or n==0):\n",
    "        return 1\n",
    "    return n *fact(n-1)\n",
    "\n",
    "n = int(input(\"enter a number: \"))\n",
    "print(f\"output is: {fact(n)}\")"
   ]
  },
  {
   "cell_type": "markdown",
   "id": "cd75e8de-a4ec-4db2-9e1e-83eea4d98fed",
   "metadata": {},
   "source": [
    "# practice set"
   ]
  },
  {
   "cell_type": "code",
   "execution_count": 37,
   "id": "bb8dbd52-a4e7-45ed-a7f6-169246f36e5e",
   "metadata": {},
   "outputs": [
    {
     "name": "stdout",
     "output_type": "stream",
     "text": [
      "65\n"
     ]
    }
   ],
   "source": [
    "#1 greatest no\n",
    "\n",
    "def greatest(a, b, c):\n",
    "    if(a>b and a>c):\n",
    "        return a\n",
    "    elif(b>a and b>c):\n",
    "        return b\n",
    "    elif(c>a and c>b):\n",
    "        return c\n",
    "a=23\n",
    "b=45\n",
    "c=65\n",
    "print(greatest(a,b,c))"
   ]
  },
  {
   "cell_type": "code",
   "execution_count": 43,
   "id": "5e6cc827-1864-48b7-adf5-161fefc70645",
   "metadata": {},
   "outputs": [
    {
     "name": "stdin",
     "output_type": "stream",
     "text": [
      "enter temp:  45\n"
     ]
    },
    {
     "name": "stdout",
     "output_type": "stream",
     "text": [
      "7.22 degree\n"
     ]
    }
   ],
   "source": [
    "#2 c/5 = (f-32)/9\n",
    "\n",
    "def f_to_c(f):\n",
    "    return 5*(f-32)/9\n",
    "\n",
    "f =int(input(\"enter temp: \"))\n",
    "c = f_to_c(f)\n",
    "print(f\"{round(c,2)} degree\")\n"
   ]
  },
  {
   "cell_type": "code",
   "execution_count": null,
   "id": "b3ab9d2b-7d16-46da-bd4b-ca2bdbe8a997",
   "metadata": {},
   "outputs": [],
   "source": [
    "\n"
   ]
  }
 ],
 "metadata": {
  "kernelspec": {
   "display_name": "Python 3 (ipykernel)",
   "language": "python",
   "name": "python3"
  },
  "language_info": {
   "codemirror_mode": {
    "name": "ipython",
    "version": 3
   },
   "file_extension": ".py",
   "mimetype": "text/x-python",
   "name": "python",
   "nbconvert_exporter": "python",
   "pygments_lexer": "ipython3",
   "version": "3.11.7"
  }
 },
 "nbformat": 4,
 "nbformat_minor": 5
}
