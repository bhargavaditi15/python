{
 "cells": [
  {
   "cell_type": "code",
   "execution_count": null,
   "id": "1e62b3ad-f010-46f5-aa2f-f7396120dc03",
   "metadata": {},
   "outputs": [],
   "source": [
    "#Q1:  print twinkle twinkle little start poem in python:\n",
    "\n",
    "print('''Twinkle, twinkle, little star,\n",
    "How I wonder what you are!\n",
    "Up above the world so high,\n",
    "Like a diamond in the sky.\n",
    "\n",
    "When the blazing sun is gone,\n",
    "When he nothing shines upon,\n",
    "Then you show your little light,\n",
    "Twinkle, twinkle, all the night.\n",
    "\n",
    "Then the traveler in the dark\n",
    "Thanks you for your tiny spark,\n",
    "How could he see where to go,\n",
    "If you did not twinkle so?\n",
    "\n",
    "In the dark blue sky you keep,\n",
    "Often through my curtains peep\n",
    "For you never shut your eye,\n",
    "Till the sun is in the sky.\n",
    "\n",
    "As your bright and tiny spark\n",
    "Lights the traveler in the dark,\n",
    "Though I know not what you are,\n",
    "Twinkle, twinkle, little star''')"
   ]
  },
  {
   "cell_type": "code",
   "execution_count": null,
   "id": "0450f378-6d73-48e3-854f-cbffbadc3484",
   "metadata": {},
   "outputs": [],
   "source": [
    "#Q2: use repl and print the table of 5 using it.\n",
    "\n",
    "'''\n",
    "    5*1\n",
    "    5*2\n",
    "    5*3\n",
    "    5*4\n",
    "    5*5\n",
    "    5*6\n",
    "    5*7\n",
    "    5*8\n",
    "    5*9\n",
    "    5*10\n",
    "    '''"
   ]
  },
  {
   "cell_type": "code",
   "execution_count": null,
   "id": "0c03e66d-852d-4746-a243-f181a15c0d6f",
   "metadata": {},
   "outputs": [],
   "source": [
    "#Q3: isntall an external module adn use in to perform an operation of your intrest\n",
    "''' so here i have used pyjokes external module to solve the question \n",
    "using pip command we have installed it\n",
    "    pip install pyjokes''' \n",
    "\n",
    "'''import pyjokes\n",
    "\n",
    "print(\"printing jokes using pyjokes.....\")\n",
    "joke = pyjokes.get_joke()\n",
    "print(joke)'''\n"
   ]
  },
  {
   "cell_type": "code",
   "execution_count": null,
   "id": "0d62ce30-494f-48e8-8f91-7a19f7b0b836",
   "metadata": {},
   "outputs": [],
   "source": [
    "#Q4:  write py program to print content of a dict using os module. search online for the function which does that\n",
    "\n",
    "''' import os\n",
    "directory_path = '/'\n",
    "contents = os.listdir(directory_path)\n",
    "for item in contents:\n",
    "    print(item)'''"
   ]
  },
  {
   "cell_type": "code",
   "execution_count": null,
   "id": "0f195f75-94f2-44f8-ae5d-a7e9325f6146",
   "metadata": {},
   "outputs": [],
   "source": []
  }
 ],
 "metadata": {
  "kernelspec": {
   "display_name": "Python 3 (ipykernel)",
   "language": "python",
   "name": "python3"
  },
  "language_info": {
   "codemirror_mode": {
    "name": "ipython",
    "version": 3
   },
   "file_extension": ".py",
   "mimetype": "text/x-python",
   "name": "python",
   "nbconvert_exporter": "python",
   "pygments_lexer": "ipython3",
   "version": "3.11.7"
  }
 },
 "nbformat": 4,
 "nbformat_minor": 5
}
