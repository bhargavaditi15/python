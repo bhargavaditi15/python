{
 "cells": [
  {
   "cell_type": "code",
   "execution_count": 2,
   "id": "6eed1478-dd54-482f-b300-28e86e50831b",
   "metadata": {},
   "outputs": [
    {
     "name": "stdin",
     "output_type": "stream",
     "text": [
      "enter first number:  5\n",
      "enter second number:  5\n"
     ]
    },
    {
     "name": "stdout",
     "output_type": "stream",
     "text": [
      "sum of two numbers are:  10\n"
     ]
    }
   ],
   "source": [
    "#Q1 programe to add two no\n",
    "\n",
    "first = input(\"enter first number: \")\n",
    "second = input(\"enter second number: \")\n",
    "\n",
    "sum = int(first) + int(second)\n",
    "\n",
    "print(\"sum of two numbers are: \", sum)\n"
   ]
  },
  {
   "cell_type": "code",
   "execution_count": 4,
   "id": "4a371536-352b-4fac-b0b8-e7ae1bd29f80",
   "metadata": {},
   "outputs": [
    {
     "name": "stdout",
     "output_type": "stream",
     "text": [
      "reminder:  0\n"
     ]
    }
   ],
   "source": [
    "#Q2 no divided by z what will be the output\n",
    "\n",
    "a = 10\n",
    "b = 2\n",
    "\n",
    "print (\"reminder: \", a%b)\n"
   ]
  },
  {
   "cell_type": "code",
   "execution_count": 6,
   "id": "950a6415-f6a9-40f7-92f3-492c961e5442",
   "metadata": {},
   "outputs": [
    {
     "name": "stdin",
     "output_type": "stream",
     "text": [
      "enter the number here:  5\n"
     ]
    },
    {
     "name": "stdout",
     "output_type": "stream",
     "text": [
      "<class 'str'>\n"
     ]
    }
   ],
   "source": [
    "#Q3 check type of var assigned \n",
    "a = input(\"enter the number here: \")\n",
    "print(type(a))\n",
    "\n",
    "#it will alwayas be a string because input ka type humesha string he hota hai\n"
   ]
  },
  {
   "cell_type": "code",
   "execution_count": 18,
   "id": "8461ac27-8c71-4914-bcba-437793586b6c",
   "metadata": {},
   "outputs": [
    {
     "name": "stdin",
     "output_type": "stream",
     "text": [
      "enter the first number:  2\n",
      "enter the second number:  2\n"
     ]
    },
    {
     "name": "stdout",
     "output_type": "stream",
     "text": [
      "a is greater than b:  False\n"
     ]
    }
   ],
   "source": [
    "#Q4 greater smaller\n",
    "a = int(input(\"enter the first number: \"))\n",
    "b = int(input(\"enter the second number: \"))\n",
    "print(\"a is greater than b: \", a>b)\n"
   ]
  },
  {
   "cell_type": "code",
   "execution_count": 16,
   "id": "e681f9e8-f8c7-438f-b1e5-77f651b628a4",
   "metadata": {},
   "outputs": [
    {
     "name": "stdin",
     "output_type": "stream",
     "text": [
      "enter the first number:  2\n",
      "enter the second number:  2\n"
     ]
    },
    {
     "name": "stdout",
     "output_type": "stream",
     "text": [
      "the avg of 2 no is:  2.0\n"
     ]
    }
   ],
   "source": [
    "#Q5 AVG OF 2 NO \n",
    "a = int(input(\"enter the first number: \"))\n",
    "b = int(input(\"enter the second number: \"))\n",
    "\n",
    "print(\"the avg of 2 no is: \", (a+b)/2)\n",
    "\n"
   ]
  },
  {
   "cell_type": "code",
   "execution_count": 12,
   "id": "2fb2f25d-b4f6-4a83-acc0-4c9fabf5ea2d",
   "metadata": {},
   "outputs": [
    {
     "name": "stdin",
     "output_type": "stream",
     "text": [
      "enter your number:  25\n"
     ]
    },
    {
     "name": "stdout",
     "output_type": "stream",
     "text": [
      "square of two number 625\n"
     ]
    }
   ],
   "source": [
    "#Q6 square of 2 no\n",
    "a = int(input(\"enter your number: \"))\n",
    "print(\"square of two number\", a**2)\n"
   ]
  },
  {
   "cell_type": "code",
   "execution_count": null,
   "id": "ee46e355-55ab-42f9-bd0b-7a5a3d7bc646",
   "metadata": {},
   "outputs": [],
   "source": []
  }
 ],
 "metadata": {
  "kernelspec": {
   "display_name": "Python 3 (ipykernel)",
   "language": "python",
   "name": "python3"
  },
  "language_info": {
   "codemirror_mode": {
    "name": "ipython",
    "version": 3
   },
   "file_extension": ".py",
   "mimetype": "text/x-python",
   "name": "python",
   "nbconvert_exporter": "python",
   "pygments_lexer": "ipython3",
   "version": "3.11.7"
  }
 },
 "nbformat": 4,
 "nbformat_minor": 5
}
